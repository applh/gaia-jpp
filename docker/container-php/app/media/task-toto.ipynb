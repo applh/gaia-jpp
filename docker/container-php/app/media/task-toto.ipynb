{
 "cells": [
  {
   "cell_type": "code",
   "execution_count": null,
   "metadata": {},
   "outputs": [],
   "source": [
    "# show date\n",
    "import datetime\n",
    "print(datetime.datetime.now())"
   ]
  },
  {
   "cell_type": "code",
   "execution_count": null,
   "metadata": {},
   "outputs": [],
   "source": [
    "# upgrade pip\n",
    "!/var/www/venv/bin/pip install --upgrade pip\n",
    "\n",
    "# install playwright\n",
    "!/var/www/venv/bin/pip install playwright \n",
    "#!/var/www/venv/bin/playwright install\n",
    "#!/var/www/venv/bin/playwright install-deps\n",
    "#!/var/www/venv/bin/playwright install chromium\n",
    "\n",
    "# !pip install playwright install chromium\n",
    "#!pip install playwright install-deps"
   ]
  }
 ],
 "metadata": {
  "kernelspec": {
   "display_name": "Python 3",
   "language": "python",
   "name": "python3"
  },
  "language_info": {
   "codemirror_mode": {
    "name": "ipython",
    "version": 3
   },
   "file_extension": ".py",
   "mimetype": "text/x-python",
   "name": "python",
   "nbconvert_exporter": "python",
   "pygments_lexer": "ipython3",
   "version": "3.11.3"
  },
  "orig_nbformat": 4
 },
 "nbformat": 4,
 "nbformat_minor": 2
}
