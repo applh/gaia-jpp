{
 "cells": [
  {
   "attachments": {},
   "cell_type": "markdown",
   "metadata": {},
   "source": [
    "# Playwright tests"
   ]
  },
  {
   "cell_type": "code",
   "execution_count": null,
   "metadata": {},
   "outputs": [],
   "source": [
    "async def screenshot (url, site):\n",
    "    # if url is not set, return\n",
    "    if not url:\n",
    "        return\n",
    "    \n",
    "    # get name of site\n",
    "    name = site['name'] if 'name' in site else 'unknown'\n",
    "    target_file = f\"./screenshot-{name}.png\"\n",
    "    try:\n",
    "        from playwright.async_api import async_playwright\n",
    "        playwright = await async_playwright().start()\n",
    "        browser = await playwright.chromium.launch()\n",
    "        page = await browser.new_page()\n",
    "        await page.goto(url)\n",
    "        await page.screenshot(path=target_file, full_page=True)\n",
    "        await browser.close()\n",
    "        await playwright.stop()\n",
    "    except Exception as e:\n",
    "        print(e)\n",
    "        \n",
    "    print(site)\n",
    "    \n",
    "    # if file exists, display it\n",
    "    import os.path\n",
    "    if os.path.isfile(target_file):\n",
    "        from IPython.display import Image\n",
    "        img = Image(filename=target_file)\n",
    "        display(img)\n",
    "    "
   ]
  },
  {
   "cell_type": "code",
   "execution_count": null,
   "metadata": {},
   "outputs": [],
   "source": [
    "from playwright.sync_api import sync_playwright\n",
    "\n",
    "def syncshot ():\n",
    "    with sync_playwright() as p:\n",
    "        browser = p.webkit.launch()\n",
    "        page = browser.new_page()\n",
    "        page.goto(\"http://whatsmyuseragent.org/\")\n",
    "        page.screenshot(path=\"../my-data/cron/example.png\")\n",
    "        browser.close()\n"
   ]
  },
  {
   "cell_type": "code",
   "execution_count": null,
   "metadata": {},
   "outputs": [],
   "source": [
    "# read config from json file ../my-date/cron/config.json\n",
    "import json\n",
    "config = {}\n",
    "with open('my-config.json') as f:\n",
    "    config = json.load(f)\n",
    "\n",
    "# get sites in config if present\n",
    "sites = config['sites'] if 'sites' in config else []\n",
    "print(sites)\n",
    "\n",
    "# get random site\n",
    "import random\n",
    "site = random.choice(sites) if len(sites) > 0 else 'https://studio.applh.com'\n",
    "url = site['url']\n",
    "name = site['name']\n",
    "print(url)\n",
    "\n",
    "# FIXME: KO\n",
    "# await screenshot(url, site)\n",
    "# syncshot()\n",
    "\n",
    "# check if .cache folder exists\n",
    "!ls -la /var/www \n",
    "\n",
    "await screenshot(url, site)\n"
   ]
  },
  {
   "cell_type": "code",
   "execution_count": null,
   "metadata": {},
   "outputs": [],
   "source": [
    "# list tmp files in current dir\n",
    "!ls -lhtra ./tmp*"
   ]
  }
 ],
 "metadata": {
  "kernelspec": {
   "display_name": "Python 3",
   "language": "python",
   "name": "python3"
  },
  "language_info": {
   "codemirror_mode": {
    "name": "ipython",
    "version": 3
   },
   "file_extension": ".py",
   "mimetype": "text/x-python",
   "name": "python",
   "nbconvert_exporter": "python",
   "pygments_lexer": "ipython3",
   "version": "3.11.3"
  },
  "orig_nbformat": 4
 },
 "nbformat": 4,
 "nbformat_minor": 2
}
