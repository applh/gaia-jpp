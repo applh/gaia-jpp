{
 "cells": [
  {
   "cell_type": "code",
   "execution_count": null,
   "metadata": {},
   "outputs": [],
   "source": [
    "# add a log line in file my-task-notebook.log\n",
    "import logging\n",
    "# add time stamp to log\n",
    "logging.basicConfig(filename='../my-data/cron/my-task-notebook.log', level=logging.INFO, format='%(asctime)s:%(levelname)s:%(message)s')\n",
    "# add a log line in file my-task-notebook.log\n",
    "logging.info('This is a log message')\n",
    "\n"
   ]
  },
  {
   "cell_type": "code",
   "execution_count": null,
   "metadata": {},
   "outputs": [],
   "source": [
    "# install python package PIL, requests\n",
    "# !pip install Pillow requests\n"
   ]
  },
  {
   "cell_type": "code",
   "execution_count": null,
   "metadata": {},
   "outputs": [],
   "source": [
    "def insert_image (filename, size='1200x1200', keywords='nature'):\n",
    "\n",
    "    # check if filename exists\n",
    "    import os.path\n",
    "    from PIL import Image\n",
    "    from io import BytesIO\n",
    "    if not os.path.isfile(filename):    \n",
    "        # load a random image from unsplash\n",
    "        # https://source.unsplash.com/800x600?nature,water\n",
    "        # download random image from unsplash\n",
    "        # https://unsplash.com/documentation#search-photos\n",
    "\n",
    "        url = f\"https://source.unsplash.com/{size}?{keywords}\"\n",
    "        print(url)\n",
    "\n",
    "        import requests\n",
    "        response = requests.get(url)\n",
    "        img = Image.open(BytesIO(response.content))\n",
    "        img.save(filename)\n",
    "    else:\n",
    "        img = Image.open(filename)\n",
    "\n",
    "    display(img)\n"
   ]
  },
  {
   "cell_type": "code",
   "execution_count": null,
   "metadata": {},
   "outputs": [],
   "source": [
    "def insert_image_md5 (target_dir, size='1200x1200', keywords='nature'):\n",
    "\n",
    "    # check if filename exists\n",
    "    import os.path\n",
    "    from PIL import Image\n",
    "    from io import BytesIO\n",
    "    import requests\n",
    "    import hashlib\n",
    "\n",
    "    # create dir if not exists\n",
    "    if not os.path.exists(target_dir):\n",
    "        print(f\"create dir {target_dir}\")\n",
    "        os.makedirs(target_dir)\n",
    "\n",
    "    url = f\"https://source.unsplash.com/{size}?{keywords}\"\n",
    "    print(url)\n",
    "    response = requests.get(url)\n",
    "    # get the md5 of the image\n",
    "    md5 = hashlib.md5(response.content).hexdigest()\n",
    "    print(md5)\n",
    "    filename = f\"{target_dir}/photo-{md5}.jpg\"\n",
    "    print(filename)\n",
    "    if not os.path.isfile(filename):\n",
    "\n",
    "        img = Image.open(BytesIO(response.content))\n",
    "        img.save(filename)\n",
    "    \n",
    "    display(img)\n"
   ]
  },
  {
   "cell_type": "code",
   "execution_count": null,
   "metadata": {},
   "outputs": [],
   "source": [
    "# add timestamp to image\n",
    "from datetime import datetime\n",
    "import os.path\n",
    "import json\n",
    "\n",
    "config = {\n",
    "    'keywords': 'nature,water'\n",
    "}\n",
    "# check if file ../my-data/cron/config.json exists then load it\n",
    "if os.path.isfile('my-config.json'):\n",
    "    with open('my-config.json') as json_file:\n",
    "        config = json.load(json_file)\n",
    "\n",
    "#filename = f\"../my-data/cron/my-image-{datetime.now().strftime('%Y%m%d-%H%M%S')}.jpg\"\n",
    "#insert_image(filename, size='1024x1024', keywords=config['keywords'])\n",
    "\n",
    "target_dir = '../my-data/cron/photos'\n",
    "insert_image_md5(target_dir, size='1024x1024', keywords=config['keywords'])"
   ]
  }
 ],
 "metadata": {
  "kernelspec": {
   "display_name": "Python 3",
   "language": "python",
   "name": "python3"
  },
  "language_info": {
   "codemirror_mode": {
    "name": "ipython",
    "version": 3
   },
   "file_extension": ".py",
   "mimetype": "text/x-python",
   "name": "python",
   "nbconvert_exporter": "python",
   "pygments_lexer": "ipython3",
   "version": "3.11.3"
  },
  "orig_nbformat": 4
 },
 "nbformat": 4,
 "nbformat_minor": 2
}
