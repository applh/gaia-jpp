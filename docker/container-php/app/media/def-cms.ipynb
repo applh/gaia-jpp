{
 "cells": [
  {
   "cell_type": "code",
   "execution_count": null,
   "metadata": {},
   "outputs": [],
   "source": [
    "def insert_image (filename, size='1200x1200', keywords='nature'):\n",
    "\n",
    "    # check if filename exists\n",
    "    import os.path\n",
    "    from PIL import Image\n",
    "    from io import BytesIO\n",
    "    if not os.path.isfile(filename):    \n",
    "        # load a random image from unsplash\n",
    "        # https://source.unsplash.com/800x600?nature,water\n",
    "        # download random image from unsplash\n",
    "        # https://unsplash.com/documentation#search-photos\n",
    "\n",
    "        url = f\"https://source.unsplash.com/{size}?{keywords}\"\n",
    "        print(url)\n",
    "\n",
    "        import requests\n",
    "        response = requests.get(url)\n",
    "        img = Image.open(BytesIO(response.content))\n",
    "        img.save(filename)\n",
    "    else:\n",
    "        img = Image.open(filename)\n",
    "\n",
    "    display(img)"
   ]
  }
 ],
 "metadata": {
  "language_info": {
   "name": "python"
  },
  "orig_nbformat": 4
 },
 "nbformat": 4,
 "nbformat_minor": 2
}
