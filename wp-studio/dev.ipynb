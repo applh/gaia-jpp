{
 "cells": [
  {
   "attachments": {},
   "cell_type": "markdown",
   "metadata": {},
   "source": [
    "# WP-STUDIO PLUGIN\n"
   ]
  },
  {
   "cell_type": "code",
   "execution_count": null,
   "metadata": {},
   "outputs": [],
   "source": [
    "def dev_update ():\n",
    "    # remove current my-class.zip\n",
    "    !rm my-data/class.zip\n",
    "    # zip the folder ../wp/class into ./my-class.zip\n",
    "    !cd ../wp && zip -r ../wp-studio/my-data/class.zip class\n",
    "\n",
    "    # remove all files my-data/class-*.php\n",
    "    !rm my-data/class-*.php\n",
    "\n",
    "    # list files in my-class.zip\n",
    "    !unzip -l my-data/class.zip"
   ]
  },
  {
   "cell_type": "code",
   "execution_count": null,
   "metadata": {},
   "outputs": [],
   "source": [
    "def sync_zip (name):\n",
    "    infos = my_sites[name] or {}\n",
    "    url = infos.get('home')\n",
    "    xp_key = infos.get('xp_key')\n",
    "    if not url or not xp_key:\n",
    "        print('no url or xp_key for site', name)\n",
    "        return\n",
    "        \n",
    "    print(\"...\\n\")\n",
    "    print(\"sync_zip\", name, url)\n",
    "    print(\"...\\n\")\n",
    "    !curl -F \"class_zip=@my-data/class.zip\" \"{url}/wp-json/studio/v1/json?m=admin_zip_upload&xp_key={xp_key}\"\n"
   ]
  },
  {
   "attachments": {},
   "cell_type": "markdown",
   "metadata": {},
   "source": [
    "## USAGE\n",
    "\n",
    "* Create your local notebook in my-data/your-notebook.ipynb\n",
    "* sample code\n",
    "\n",
    "```jupyter\n",
    "# keep local infos\n",
    "my_sites = {\n",
    "    'localhost': {\n",
    "        'home': 'http://localhost:8888',\n",
    "        'xp_key': 'PUT_YOUR_KEY_HERE'\n",
    "    },\n",
    "    'studio': {\n",
    "        'home': 'https://YOUR-WP-SITE.NET',\n",
    "        'xp_key': 'PUT_YOUR_KEY_HERE'\n",
    "    },\n",
    "}\n",
    "\n",
    "%run \"../dev.ipynb\"\n",
    "\n",
    "# change current folder to parent\n",
    "%cd ..\n",
    "\n",
    "dev_update()\n",
    "sync_zip('localhost')\n",
    "sync_zip('studio')\n",
    "\n",
    "# change current folder to current\n",
    "%cd my-data\n",
    "\n",
    "```"
   ]
  }
 ],
 "metadata": {
  "kernelspec": {
   "display_name": "Python 3",
   "language": "python",
   "name": "python3"
  },
  "language_info": {
   "codemirror_mode": {
    "name": "ipython",
    "version": 3
   },
   "file_extension": ".py",
   "mimetype": "text/x-python",
   "name": "python",
   "nbconvert_exporter": "python",
   "pygments_lexer": "ipython3",
   "version": "3.11.3"
  },
  "orig_nbformat": 4
 },
 "nbformat": 4,
 "nbformat_minor": 2
}
