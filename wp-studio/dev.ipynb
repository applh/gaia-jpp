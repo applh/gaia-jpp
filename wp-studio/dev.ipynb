{
 "cells": [
  {
   "attachments": {},
   "cell_type": "markdown",
   "metadata": {},
   "source": [
    "# WP-STUDIO PLUGIN\n"
   ]
  },
  {
   "cell_type": "code",
   "execution_count": 8,
   "metadata": {},
   "outputs": [
    {
     "name": "stdout",
     "output_type": "stream",
     "text": [
      "  adding: class/ (stored 0%)\n",
      "  adding: class/xp_action.php (deflated 68%)\n",
      "  adding: class/xp_action_studio.php (deflated 55%)\n",
      "Archive:  my-data/class.zip\n",
      "  Length      Date    Time    Name\n",
      "---------  ---------- -----   ----\n",
      "        0  04-26-2023 14:44   class/\n",
      "     4029  04-18-2023 14:39   class/xp_action.php\n",
      "      532  04-26-2023 15:19   class/xp_action_studio.php\n",
      "---------                     -------\n",
      "     4561                     3 files\n"
     ]
    }
   ],
   "source": [
    "# remove current my-class.zip\n",
    "!rm my-data/class.zip\n",
    "# zip the folder ../wp/class into ./my-class.zip\n",
    "!cd ../wp && zip -r ../wp-studio/my-data/class.zip class\n",
    "\n",
    "# remove all files my-data/class-*.php\n",
    "!rm my-data/class-*.php\n",
    "\n",
    "# list files in my-class.zip\n",
    "!unzip -l my-data/class.zip"
   ]
  }
 ],
 "metadata": {
  "kernelspec": {
   "display_name": "Python 3",
   "language": "python",
   "name": "python3"
  },
  "language_info": {
   "codemirror_mode": {
    "name": "ipython",
    "version": 3
   },
   "file_extension": ".py",
   "mimetype": "text/x-python",
   "name": "python",
   "nbconvert_exporter": "python",
   "pygments_lexer": "ipython3",
   "version": "3.11.3"
  },
  "orig_nbformat": 4
 },
 "nbformat": 4,
 "nbformat_minor": 2
}
