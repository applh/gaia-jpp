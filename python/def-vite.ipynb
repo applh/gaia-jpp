{
 "cells": [
  {
   "cell_type": "code",
   "execution_count": null,
   "metadata": {},
   "outputs": [],
   "source": [
    "def vite_sync ():\n",
    "    !cd ../vite && ls && yarn build\n",
    "    !cd ../wp && rm -rf dist \n",
    "    !cp -r ../vite/dist ../wp/dist\n",
    "    !cd ../wp && wp-env start\n",
    "    # print url http://localhost:8888/\n",
    "    print ( \"http://localhost:8888/\" )\n"
   ]
  },
  {
   "cell_type": "code",
   "execution_count": null,
   "metadata": {},
   "outputs": [],
   "source": [
    "def slidev_pdf (src):\n",
    "    # get timestamp in format ymd-His\n",
    "    import datetime\n",
    "    now = datetime.datetime.now()\n",
    "    timestamp = now.strftime(\"%Y%m%d-%H%M%S\")\n",
    "    print(timestamp)\n",
    "    target = './my-pdfs/' + src + '-' + timestamp + '.pdf'\n",
    "\n",
    "    !cd ../slidev && slidev export $src --output $target\n",
    "\n"
   ]
  }
 ],
 "metadata": {
  "language_info": {
   "name": "python"
  },
  "orig_nbformat": 4
 },
 "nbformat": 4,
 "nbformat_minor": 2
}
