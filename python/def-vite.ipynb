{
 "cells": [
  {
   "cell_type": "code",
   "execution_count": null,
   "metadata": {},
   "outputs": [],
   "source": [
    "def vite_sync ():\n",
    "    !cd ../vite && ls && yarn build\n",
    "    !cd ../wp && rm -rf dist \n",
    "    !cp -r ../vite/dist ../wp/dist\n",
    "    !cd ../wp && wp-env start\n",
    "    # print url http://localhost:8888/\n",
    "    print ( \"http://localhost:8888/\" )\n"
   ]
  }
 ],
 "metadata": {
  "language_info": {
   "name": "python"
  },
  "orig_nbformat": 4
 },
 "nbformat": 4,
 "nbformat_minor": 2
}
