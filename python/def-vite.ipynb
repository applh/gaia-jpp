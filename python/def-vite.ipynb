{
 "cells": [
  {
   "cell_type": "code",
   "execution_count": 1,
   "metadata": {},
   "outputs": [],
   "source": [
    "def vite_sync ():\n",
    "    !cd ../vite && ls && yarn build\n",
    "    !cd ../wp && rm -rf dist \n",
    "    !cp -r ../vite/dist ../wp/dist\n",
    "    !cd ../wp && wp-env start\n",
    "    # print url http://localhost:8888/\n",
    "    print ( \"http://localhost:8888/\" )\n"
   ]
  },
  {
   "cell_type": "code",
   "execution_count": null,
   "metadata": {},
   "outputs": [],
   "source": [
    "def slidev_pdf (src):\n",
    "    # get timestamp in format ymd-His\n",
    "    import datetime\n",
    "    now = datetime.datetime.now()\n",
    "    timestamp = now.strftime(\"%Y%m%d-%H%M%S\")\n",
    "    #remove extension from src\n",
    "\n",
    "    basesrc = src.split('.')[0]\n",
    "    target = './my-pdfs/' + basesrc + '-' + timestamp + '.pdf'\n",
    "    print(target)\n",
    "\n",
    "    !cd ../slidev && slidev export $src --dark --output $target\n",
    "\n",
    "    # return the path to the pdf\n",
    "    return target\n",
    "\n"
   ]
  },
  {
   "cell_type": "code",
   "execution_count": null,
   "metadata": {},
   "outputs": [],
   "source": [
    "def slidev_pdf2png (pdf_export):\n",
    "    # get basename\n",
    "    import os\n",
    "    pdf_export = os.path.basename(pdf_export)\n",
    "    # create subfolder with basename without extension\n",
    "    png_folder = os.path.splitext(pdf_export)[0]\n",
    "    !mkdir -p ../slidev/my-pdfs/$png_folder\n",
    "    # replace pdf extension by png\n",
    "    png_export = pdf_export.replace('.pdf', '/slide.png')\n",
    "\n",
    "    # convert pdf to png\n",
    "    print (pdf_export)\n",
    "    !cd ../slidev/my-pdfs && convert -density 150 -colorspace sRGB -quality 100 -resize 1920x1920 $pdf_export $png_export\n",
    " \n",
    "    # show files in folder\n",
    "    !ls -lhtr ../slidev/my-pdfs/$png_folder\n",
    "\n",
    "    # convert png files to mp4 video\n",
    "    # !cd ../slidev/my-pdfs/$png_folder && ffmpeg -framerate 1/5 -i ./slide-%d.png -c:v libx264 -r 30 -pix_fmt yuv420p ../$png_folder.mp4\n",
    "    return png_folder\n"
   ]
  },
  {
   "cell_type": "code",
   "execution_count": null,
   "metadata": {},
   "outputs": [],
   "source": [
    "def slidev_png2mp4 (png_folder, png_file='slide-%3d.png'):\n",
    "    print(png_folder)\n",
    "\n",
    "    # get current dir\n",
    "    import os\n",
    "    curdir = os.getcwd()\n",
    "    print(curdir)\n",
    "\n",
    "    # change dir to ../slidev/my-pdfs/$png_folder\n",
    "    os.chdir('../slidev/my-pdfs/' + png_folder)\n",
    "    !pwd\n",
    "    # convert png files to mp4 video\n",
    "    video_file = '../' + png_folder + '.mp4'\n",
    "\n",
    "    !ffmpeg -framerate 1/5 -i $png_file -c:v libx264 -r 30 -pix_fmt yuv420p $video_file\n",
    "\n",
    "    # change dir to curdir\n",
    "    os.chdir(curdir)\n",
    "    !pwd\n",
    "\n",
    "    print(video_file)\n",
    "    return video_file\n",
    "    "
   ]
  },
  {
   "cell_type": "code",
   "execution_count": null,
   "metadata": {},
   "outputs": [],
   "source": [
    "def slidev_png (src):\n",
    "    # get timestamp in format ymd-His\n",
    "    import datetime\n",
    "    now = datetime.datetime.now()\n",
    "    timestamp = now.strftime(\"%Y%m%d-%H%M%S\")\n",
    "    #remove extension from src\n",
    "    basesrc = src.split('.')[0]\n",
    "    png_folder = basesrc + '-' + timestamp\n",
    "    target = './my-pdfs/' + png_folder\n",
    "    png_target = '../slidev/my-pdfs/' + png_folder\n",
    "\n",
    "    print(target)\n",
    "\n",
    "    !cd ../slidev && slidev export --dark --format png --timeout 600000 --output $target $src\n",
    "\n",
    "    # rename all png files with prefix slide-\n",
    "    list_png = !ls $png_target\n",
    "    print(list_png)\n",
    "    for png in list_png:\n",
    "        # rename png file with prefix slide-\n",
    "        !mv $png_target/$png $png_target/slide-$png\n",
    "    \n",
    "    return png_folder\n",
    "\n"
   ]
  },
  {
   "cell_type": "code",
   "execution_count": null,
   "metadata": {},
   "outputs": [],
   "source": [
    "def slidev_build_video (src):\n",
    "    # call function slidev_png\n",
    "    png_folder = slidev_png(src)\n",
    "    video_file = slidev_png2mp4(png_folder)\n",
    "    # get basename\n",
    "    import os\n",
    "    video_file = os.path.basename(video_file)\n",
    "    return video_file\n",
    "\n"
   ]
  }
 ],
 "metadata": {
  "kernelspec": {
   "display_name": "Python 3",
   "language": "python",
   "name": "python3"
  },
  "language_info": {
   "codemirror_mode": {
    "name": "ipython",
    "version": 3
   },
   "file_extension": ".py",
   "mimetype": "text/x-python",
   "name": "python",
   "nbconvert_exporter": "python",
   "pygments_lexer": "ipython3",
   "version": "3.11.3"
  },
  "orig_nbformat": 4
 },
 "nbformat": 4,
 "nbformat_minor": 2
}
