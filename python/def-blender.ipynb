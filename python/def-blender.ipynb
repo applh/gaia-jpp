{
 "cells": [
  {
   "cell_type": "code",
   "execution_count": null,
   "metadata": {},
   "outputs": [],
   "source": [
    "def blender_render (blender_file=\"scene\"):\n",
    "    # https://docs.blender.org/manual/en/latest/advanced/command_line/arguments.html\n",
    "\n",
    "    # get timestamp ymd-his\n",
    "    timestamp = !date +\"%y%m%d-%H%M%S\"\n",
    "    timestamp = timestamp[0]\n",
    "    video_name = f\"{blender_file}-{timestamp}.mp4\"\n",
    "\n",
    "    frame_start = 1\n",
    "    frame_end = 1800\n",
    "\n",
    "    # launch blender render in background and save in video_name\n",
    "    !blender -b blender/{blender_file}.blend -s {frame_start} -e {frame_end} -P blender/render.py -o //my-video/{video_name} -a\n",
    "\n",
    "    #!blender -b -P scene/render.py blender/scene.blend -s 1 -e 100 -o //my-video/scene-$(date +\"%y%m%d-%H%M%S\").mp4 -a\n",
    "\n",
    "    # show webm file 001-0300.webm\n",
    "    from IPython.display import HTML\n",
    "    html_code = '<video width=\"100%\" height=\"400\" controls autoplay loop><source src=\"./blender/my-video/' + video_name + '\"></video>'\n",
    "    video = HTML(html_code)\n",
    "\n",
    "    print(video_name)\n",
    "    !ls -lh ./blender/my-video/{video_name}\n",
    "    display(video)\n",
    "\n"
   ]
  }
 ],
 "metadata": {
  "kernelspec": {
   "display_name": "Python 3",
   "language": "python",
   "name": "python3"
  },
  "language_info": {
   "codemirror_mode": {
    "name": "ipython",
    "version": 3
   },
   "file_extension": ".py",
   "mimetype": "text/x-python",
   "name": "python",
   "nbconvert_exporter": "python",
   "pygments_lexer": "ipython3",
   "version": "3.11.3"
  },
  "orig_nbformat": 4
 },
 "nbformat": 4,
 "nbformat_minor": 2
}
