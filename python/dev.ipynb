{
 "cells": [
  {
   "attachments": {},
   "cell_type": "markdown",
   "metadata": {},
   "source": [
    "# VITE BUILD\n",
    "\n",
    "* launch yarn build in vite folder\n",
    "* delete wp/dist folder\n",
    "* copy wp/dist folder from vite/dist folder"
   ]
  },
  {
   "cell_type": "code",
   "execution_count": 13,
   "metadata": {},
   "outputs": [
    {
     "name": "stdout",
     "output_type": "stream",
     "text": [
      "README.md            package-lock.json    \u001b[34msrc\u001b[m\u001b[m\n",
      "\u001b[34mdist\u001b[m\u001b[m                 package.json         \u001b[34mtest-results\u001b[m\u001b[m\n",
      "\u001b[34mdocs\u001b[m\u001b[m                 \u001b[34mplaywright-report\u001b[m\u001b[m    \u001b[34mtests\u001b[m\u001b[m\n",
      "index.html           playwright.config.ts vite.config.js\n",
      "\u001b[34mnode_modules\u001b[m\u001b[m         \u001b[34mpublic\u001b[m\u001b[m               yarn.lock\n",
      "\u001b[2K\u001b[1G\u001b[1myarn run v1.22.19\u001b[22m\n",
      "\u001b[2K\u001b[1G\u001b[33mwarning\u001b[39m ../../../../package.json: No license field\n",
      "\u001b[2K\u001b[1G\u001b[2m$ vite build\u001b[22m\n",
      "\u001b[36mvite v4.2.1 \u001b[32mbuilding for production...\u001b[36m\u001b[39m\n",
      "\u001b[2K\u001b[1Gtransforming (1) \u001b[2mindex.html\u001b[22m\u001b[2K\u001b[1Gtransforming (14) \u001b[2msrc/components/XpBox2.vue\u001b[22m\u001b[2K\u001b[1Gtransforming (19) \u001b[2msrc/components/MyTest.js\u001b[22m\u001b[2K\u001b[1G\u001b[32m✓\u001b[39m 24 modules transformed.\n",
      "\u001b[2K\u001b[1Grendering chunks (1)...\u001b[2K\u001b[1Grendering chunks (2)...\u001b[2K\u001b[1Grendering chunks (3)...\u001b[2K\u001b[1Grendering chunks (4)...\u001b[2K\u001b[1Grendering chunks (5)...\u001b[2K\u001b[1Grendering chunks (6)...\u001b[2K\u001b[1Grendering chunks (7)...\u001b[2K\u001b[1Grendering chunks (8)...\u001b[2K\u001b[1G\u001b[2K\u001b[1Gcomputing gzip size (0)...\u001b[2K\u001b[1Gcomputing gzip size (1)...\u001b[2K\u001b[1Gcomputing gzip size (2)...\u001b[2K\u001b[1Gcomputing gzip size (3)...\u001b[2K\u001b[1Gcomputing gzip size (4)...\u001b[2K\u001b[1Gcomputing gzip size (5)...\u001b[2K\u001b[1Gcomputing gzip size (6)...\u001b[2K\u001b[1Gcomputing gzip size (7)...\u001b[2K\u001b[1Gcomputing gzip size (8)...\u001b[2K\u001b[1Gcomputing gzip size (9)...\u001b[2K\u001b[1Gcomputing gzip size (10)...\u001b[2K\u001b[1G\u001b[2mdist/\u001b[22m\u001b[32mindex.html                  \u001b[39m\u001b[1m\u001b[2m  0.45 kB\u001b[22m\u001b[1m\u001b[22m\n",
      "\u001b[2mdist/\u001b[22m\u001b[32mmanifest.json               \u001b[39m\u001b[1m\u001b[2m  2.42 kB\u001b[22m\u001b[1m\u001b[22m\n",
      "\u001b[2mdist/\u001b[22m\u001b[2massets/\u001b[22m\u001b[35mXpForm-d7096932.css  \u001b[39m\u001b[1m\u001b[2m  0.42 kB\u001b[22m\u001b[1m\u001b[22m\u001b[2m │ gzip:   0.20 kB\u001b[22m\n",
      "\u001b[2mdist/\u001b[22m\u001b[2massets/\u001b[22m\u001b[35mindex-d5cd5ee5.css   \u001b[39m\u001b[1m\u001b[2m  1.68 kB\u001b[22m\u001b[1m\u001b[22m\u001b[2m │ gzip:   0.72 kB\u001b[22m\n",
      "\u001b[2mdist/\u001b[22m\u001b[2massets/\u001b[22m\u001b[36mXpBox1-9920ce6e.js   \u001b[39m\u001b[1m\u001b[2m  0.73 kB\u001b[22m\u001b[1m\u001b[22m\u001b[2m │ gzip:   0.42 kB\u001b[22m\n",
      "\u001b[2mdist/\u001b[22m\u001b[2massets/\u001b[22m\u001b[36mXpBox2-a4e8f779.js   \u001b[39m\u001b[1m\u001b[2m  0.73 kB\u001b[22m\u001b[1m\u001b[22m\u001b[2m │ gzip:   0.42 kB\u001b[22m\n",
      "\u001b[2mdist/\u001b[22m\u001b[2massets/\u001b[22m\u001b[36mXpBox3-b1bb8eb7.js   \u001b[39m\u001b[1m\u001b[2m  0.73 kB\u001b[22m\u001b[1m\u001b[22m\u001b[2m │ gzip:   0.42 kB\u001b[22m\n",
      "\u001b[2mdist/\u001b[22m\u001b[2massets/\u001b[22m\u001b[36mXpBox4-dafa9791.js   \u001b[39m\u001b[1m\u001b[2m  0.73 kB\u001b[22m\u001b[1m\u001b[22m\u001b[2m │ gzip:   0.42 kB\u001b[22m\n",
      "\u001b[2mdist/\u001b[22m\u001b[2massets/\u001b[22m\u001b[36mMyTest-275dd613.js   \u001b[39m\u001b[1m\u001b[2m  1.43 kB\u001b[22m\u001b[1m\u001b[22m\u001b[2m │ gzip:   0.63 kB\u001b[22m\n",
      "\u001b[2mdist/\u001b[22m\u001b[2massets/\u001b[22m\u001b[36mXpBox-0ea14743.js    \u001b[39m\u001b[1m\u001b[2m  2.06 kB\u001b[22m\u001b[1m\u001b[22m\u001b[2m │ gzip:   0.67 kB\u001b[22m\n",
      "\u001b[2mdist/\u001b[22m\u001b[2massets/\u001b[22m\u001b[36mXpForm-9f65cabe.js   \u001b[39m\u001b[1m\u001b[2m  2.82 kB\u001b[22m\u001b[1m\u001b[22m\u001b[2m │ gzip:   1.07 kB\u001b[22m\n",
      "\u001b[2mdist/\u001b[22m\u001b[2massets/\u001b[22m\u001b[36mindex-f3f79557.js    \u001b[39m\u001b[1m\u001b[33m526.24 kB\u001b[39m\u001b[22m\u001b[2m │ gzip: 122.30 kB\u001b[22m\n",
      "\u001b[32m✓\u001b[39m built in 548ms\n",
      "\u001b[2K\u001b[1G✨  Done in 1.12s.\n"
     ]
    }
   ],
   "source": [
    "!cd ../vite && ls && yarn build\n",
    "!cd ../wp && rm -rf dist \n",
    "!cp -r ../vite/dist ../wp/dist\n"
   ]
  },
  {
   "attachments": {},
   "cell_type": "markdown",
   "metadata": {},
   "source": [
    "## VITE DEV\n",
    "\n",
    "* launch yarn dev in vite folder\n",
    "* FIXME: output are not great in notebook "
   ]
  },
  {
   "cell_type": "code",
   "execution_count": null,
   "metadata": {},
   "outputs": [],
   "source": [
    "!cd ../vite && yarn dev"
   ]
  }
 ],
 "metadata": {
  "kernelspec": {
   "display_name": "Python 3",
   "language": "python",
   "name": "python3"
  },
  "language_info": {
   "codemirror_mode": {
    "name": "ipython",
    "version": 3
   },
   "file_extension": ".py",
   "mimetype": "text/x-python",
   "name": "python",
   "nbconvert_exporter": "python",
   "pygments_lexer": "ipython3",
   "version": "3.11.3"
  },
  "orig_nbformat": 4
 },
 "nbformat": 4,
 "nbformat_minor": 2
}
