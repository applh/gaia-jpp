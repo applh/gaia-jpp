{
 "cells": [
  {
   "attachments": {},
   "cell_type": "markdown",
   "metadata": {},
   "source": [
    "# VITE BUILD\n",
    "\n",
    "* launch yarn build in vite folder\n",
    "* delete wp/dist folder\n",
    "* copy wp/dist folder from vite/dist folder"
   ]
  },
  {
   "cell_type": "code",
   "execution_count": null,
   "metadata": {},
   "outputs": [],
   "source": [
    "!cd ../vite && ls && yarn build\n",
    "!cd ../wp && rm -rf dist \n",
    "!cp -r ../vite/dist ../wp/dist\n"
   ]
  },
  {
   "attachments": {},
   "cell_type": "markdown",
   "metadata": {},
   "source": [
    "## VITE DEV\n",
    "\n",
    "* launch yarn dev in vite folder\n",
    "* FIXME: output are not great in notebook "
   ]
  },
  {
   "cell_type": "code",
   "execution_count": null,
   "metadata": {},
   "outputs": [],
   "source": [
    "!cd ../vite && yarn dev"
   ]
  },
  {
   "attachments": {},
   "cell_type": "markdown",
   "metadata": {
    "slideshow": {
     "slide_type": "slide"
    }
   },
   "source": [
    "## ARCHITECTURE\n",
    "\n",
    "![architecture](architecture.drawio.svg)"
   ]
  },
  {
   "attachments": {},
   "cell_type": "markdown",
   "metadata": {},
   "source": [
    "## ARCHITECTURE MINI\n",
    "\n",
    "![architecture](archi-mini.drawio.svg)"
   ]
  },
  {
   "cell_type": "code",
   "execution_count": null,
   "metadata": {},
   "outputs": [],
   "source": [
    "# install pandoc\n",
    "!brew install pandoc"
   ]
  },
  {
   "cell_type": "code",
   "execution_count": null,
   "metadata": {},
   "outputs": [],
   "source": [
    "# brew install MacTex\n",
    "# WARNING: +5G disk space required 😱\n",
    "# !brew install --cask mactex"
   ]
  },
  {
   "cell_type": "code",
   "execution_count": null,
   "metadata": {},
   "outputs": [],
   "source": [
    "# brew cleanup\n",
    "!brew cleanup"
   ]
  },
  {
   "cell_type": "code",
   "execution_count": null,
   "metadata": {},
   "outputs": [],
   "source": [
    "# deno version\n",
    "!deno --version"
   ]
  },
  {
   "cell_type": "code",
   "execution_count": null,
   "metadata": {},
   "outputs": [],
   "source": [
    "# launch blender in background\n",
    "!blender -b"
   ]
  },
  {
   "cell_type": "code",
   "execution_count": null,
   "metadata": {},
   "outputs": [],
   "source": [
    "# https://docs.blender.org/manual/en/latest/advanced/command_line/arguments.html\n",
    "\n",
    "# blender scene \n",
    "blender_file = \"scene\"\n",
    "\n",
    "# get timestamp ymd-his\n",
    "timestamp = !date +\"%y%m%d-%H%M%S\"\n",
    "timestamp = timestamp[0]\n",
    "video_name = f\"{blender_file}-{timestamp}.mp4\"\n",
    "\n",
    "frame_start = 1\n",
    "frame_end = 1800\n",
    "\n",
    "# launch blender render in background and save in video_name\n",
    "!blender -b blender/{blender_file}.blend -s {frame_start} -e {frame_end} -P blender/render.py -o //my-video/{video_name} -a\n",
    "\n",
    "#!blender -b -P scene/render.py blender/scene.blend -s 1 -e 100 -o //my-video/scene-$(date +\"%y%m%d-%H%M%S\").mp4 -a\n",
    "\n",
    "# show webm file 001-0300.webm\n",
    "from IPython.display import HTML\n",
    "html_code = '<video width=\"100%\" height=\"400\" controls autoplay loop><source src=\"./blender/my-video/' + video_name + '\"></video>'\n",
    "video = HTML(html_code)\n",
    "\n",
    "print(video_name)\n",
    "!ls -lh ./blender/my-video/{video_name}\n",
    "display(video)\n",
    "\n",
    "#display(video)\n"
   ]
  },
  {
   "cell_type": "code",
   "execution_count": null,
   "metadata": {},
   "outputs": [],
   "source": [
    "# if variable video_name exists and not null\n",
    "if 'video_name' in globals() and video_name:\n",
    "    print(video_name)\n",
    "    # show video\n",
    "    from IPython.display import HTML\n",
    "    html_code = '<video width=\"100%\" height=\"400\" controls autoplay loop><source src=\"./blender/my-video/' + video_name + '\"></video>'\n",
    "    video = HTML(html_code)\n",
    "    \n",
    "    print(html_code)\n",
    "    !ls -lh ./blender/my-video/{video_name}\n",
    "    display(video)\n",
    "else:\n",
    "    print(\"video_name not found\")\n"
   ]
  },
  {
   "cell_type": "code",
   "execution_count": null,
   "metadata": {},
   "outputs": [],
   "source": [
    "# convert video 0001-0300.webm to 0001-0300.mp4\n",
    "# !ffmpeg -i 0001-0300.webm -c:v libx264 -crf 23 -preset veryfast 0001-0300.mp4\n",
    "!ffmpeg -i 0001-0300.webm -c:v libx264 -crf 23 0001-0300.mp4"
   ]
  },
  {
   "cell_type": "code",
   "execution_count": null,
   "metadata": {},
   "outputs": [],
   "source": [
    "!ls -ltrh"
   ]
  }
 ],
 "metadata": {
  "kernelspec": {
   "display_name": "Python 3",
   "language": "python",
   "name": "python3"
  },
  "language_info": {
   "codemirror_mode": {
    "name": "ipython",
    "version": 3
   },
   "file_extension": ".py",
   "mimetype": "text/x-python",
   "name": "python",
   "nbconvert_exporter": "python",
   "pygments_lexer": "ipython3",
   "version": "3.11.3"
  },
  "orig_nbformat": 4
 },
 "nbformat": 4,
 "nbformat_minor": 2
}
