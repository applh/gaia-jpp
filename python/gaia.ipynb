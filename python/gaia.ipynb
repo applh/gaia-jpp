{
 "cells": [
  {
   "attachments": {},
   "cell_type": "markdown",
   "metadata": {},
   "source": [
    "# GAIA\n",
    "\n",
    "## TIMELINE\n",
    "\n",
    "* 1 year = 365 days * 24 hours * 3600 seconds\n",
    "* 1 year in seconds\n",
    "* 365 x 24 x 3600 = 31.536.000\n",
    "* 20 years in seconds\n",
    "* 20 x 31.536.000 = 630.720.000\n",
    "* 20 years in minutes\n",
    "* 630.720.000 / 60 = 10.512.000\n",
    "\n",
    "* 1 Byte = 8 bits\n",
    "* 1 KB = 1.000 Bytes\n",
    "* 1 MB = 1.000.000 Bytes\n",
    "* 1 GB = 1.000.000.000 Bytes\n",
    "* 1 TB = 1.000 GB\n",
    "\n",
    "## HUMAN LIMITS \n",
    "\n",
    "* time from birth to workstation\n",
    "* human = 20 years\n",
    "* ai = 2 years\n",
    "\n",
    "* all necessary skills to work are less than 1 TB\n",
    "* 1TB = 1 million of MB \n",
    "* 2 years in minutes = 2 x 365 x 24 x 60 = 1.051.200\n",
    "* 2 years = 1.051.200 minutes\n",
    "* To learn all necessary skills in 2 years\n",
    "* => around 1 MB per minute\n",
    "* (cron job is every minute...)\n",
    "\n",
    "\n"
   ]
  },
  {
   "attachments": {},
   "cell_type": "markdown",
   "metadata": {},
   "source": [
    "## Project Levels 1-10\n",
    "\n",
    "### Level 1 = 10x10\n",
    "\n",
    "* 10x10 = 100\n",
    "\n",
    "### Level 2 = 20x20\n",
    "\n",
    "* 20x20 = 400\n",
    "\n",
    "### Level 3 = 30x30\n",
    "\n",
    "* 30x30 = 900\n",
    "\n",
    "### Level 4 = 40x40\n",
    "\n",
    "* 40x40 = 1.600\n",
    "\n",
    "### Level 5 = 50x50\n",
    "\n",
    "* 50x50 = 2.500\n",
    "\n",
    "### Level 6 = 60x60\n",
    "\n",
    "* 60x60 = 3.600\n",
    "\n",
    "### Level 7 = 70x70\n",
    "\n",
    "* 70x70 = 4.900\n",
    "\n",
    "### Level 8 = 80x80\n",
    "\n",
    "* 80x80 = 6.400\n",
    "\n",
    "### Level 9 = 90x90\n",
    "\n",
    "* 90x90 = 8.100\n",
    "\n",
    "### Level 10 = 100x100\n",
    "\n",
    "* 100x100 = 10.000\n",
    "\n"
   ]
  },
  {
   "attachments": {},
   "cell_type": "markdown",
   "metadata": {},
   "source": [
    "## Matter JS\n",
    "\n",
    "https://brm.io/matter-js/"
   ]
  },
  {
   "cell_type": "code",
   "execution_count": 10,
   "metadata": {},
   "outputs": [
    {
     "name": "stderr",
     "output_type": "stream",
     "text": [
      "/var/folders/_3/jh8qq2615plbf942089j9jm80000gn/T/ipykernel_25674/1027152476.py:17: MatplotlibDeprecationWarning: The get_cmap function was deprecated in Matplotlib 3.7 and will be removed two minor releases later. Use ``matplotlib.colormaps[name]`` or ``matplotlib.colormaps.get_cmap(obj)`` instead.\n",
      "  cmap = cm.get_cmap('jet', nside)\n"
     ]
    },
    {
     "data": {
      "image/png": "[encoded data removed]",
      "text/plain": [
       "<Figure size 640x480 with 1 Axes>"
      ]
     },
     "metadata": {},
     "output_type": "display_data"
    },
    {
     "data": {
      "image/png": "[encoded data removed]",
      "text/plain": [
       "<Figure size 640x480 with 1 Axes>"
      ]
     },
     "metadata": {},
     "output_type": "display_data"
    },
    {
     "data": {
      "image/png": "[encoded data removed]",
      "text/plain": [
       "<Figure size 640x480 with 2 Axes>"
      ]
     },
     "metadata": {},
     "output_type": "display_data"
    }
   ],
   "source": [
    "# show a square grid 10x10\n",
    "\n",
    "import numpy as np\n",
    "import matplotlib.pyplot as plt\n",
    "import matplotlib.cm as cm\n",
    "import matplotlib.colors as colors\n",
    "import matplotlib.patches as patches\n",
    "from matplotlib.collections import PatchCollection\n",
    "\n",
    "# define the grid\n",
    "nside = 10\n",
    "x = np.arange(nside)\n",
    "y = np.arange(nside)\n",
    "xx, yy = np.meshgrid(x, y)\n",
    "\n",
    "# define the colors\n",
    "cmap = cm.get_cmap('jet', nside)\n",
    "norm = colors.Normalize(vmin=0, vmax=nside)\n",
    "\n",
    "# define the patches\n",
    "mygrid = []\n",
    "for i in range(nside):\n",
    "    for j in range(nside):\n",
    "        # define the vertices of the patch\n",
    "        mygrid.append(patches.Rectangle((i, j), 1, 1))\n",
    "\n",
    "# plot the grid\n",
    "fig, ax = plt.subplots()\n",
    "p = PatchCollection(mygrid, cmap=cmap, norm=norm)\n",
    "p.set_array(np.array(range(nside*nside)))\n",
    "ax.add_collection(p)\n",
    "plt.axis('equal')\n",
    "plt.axis('off')\n",
    "plt.show()\n",
    "\n",
    "# plot the grid with labels\n",
    "fig, ax = plt.subplots()\n",
    "p = PatchCollection(mygrid, cmap=cmap, norm=norm)\n",
    "p.set_array(np.array(range(nside*nside)))\n",
    "ax.add_collection(p)\n",
    "for i in range(nside):\n",
    "    for j in range(nside):\n",
    "        # reduce font size\n",
    "        ax.text(i+0.5, j+0.5, str(i*nside+j), ha='center', va='center', fontsize=4)\n",
    "\n",
    "\n",
    "plt.axis('equal')\n",
    "plt.axis('off')\n",
    "plt.show()\n",
    "\n",
    "# plot the grid with labels and colorbar\n",
    "fig, ax = plt.subplots()\n",
    "p = PatchCollection(mygrid, cmap=cmap, norm=norm)\n",
    "p.set_array(np.array(range(nside*nside)))\n",
    "ax.add_collection(p)\n",
    "for i in range(nside):\n",
    "    for j in range(nside):\n",
    "        ax.text(i+0.5, j+0.5, str(i*nside+j), ha='center', va='center', fontsize=4)\n",
    "plt.axis('equal')\n",
    "plt.axis('off')\n",
    "plt.colorbar(p)\n",
    "plt.show()\n",
    "\n",
    "\n",
    "\n"
   ]
  },
  {
   "cell_type": "code",
   "execution_count": null,
   "metadata": {},
   "outputs": [],
   "source": [
    "# produce a text of 100x100 characters\n",
    "# each character is a random letter\n",
    "# show the text\n",
    "import random\n",
    "import string\n",
    "import numpy as np\n",
    "import matplotlib.pyplot as plt\n",
    "import matplotlib.image as mpimg\n",
    "import matplotlib.cm as cm\n",
    "import matplotlib.colors as colors\n",
    "import matplotlib.animation as animation\n",
    "import time\n",
    "import sys\n",
    "\n",
    "# create a random text\n",
    "def random_text():\n",
    "    return ''.join(random.choice(string.ascii_lowercase) for i in range(10000))\n",
    "\n",
    "# create a random image\n",
    "def random_image():\n",
    "    return np.random.randint(0, 256, (100, 100))\n",
    "\n",
    "# show the text\n",
    "def show_text(text):\n",
    "    print(text)\n",
    "\n",
    "# show the image\n",
    "def show_image(image):\n",
    "    plt.imshow(image, cmap = cm.Greys_r)\n",
    "    plt.show()\n",
    "\n",
    "# show the image\n",
    "def show_image_animation(image):\n",
    "    fig = plt.figure()\n",
    "    plt.imshow(image, cmap = cm.Greys_r)\n",
    "    ani = animation.FuncAnimation(fig, animate, interval=1000)\n",
    "    plt.show()\n",
    "\n",
    "# animate the image\n",
    "def animate(i):\n",
    "    image = random_image()\n",
    "    plt.imshow(image, cmap = cm.Greys_r)\n",
    "\n",
    "# show the text\n",
    "def show_text_animation(text):\n",
    "    for i in range(0, len(text), 100):\n",
    "        print(text[i:i+100] + \"\\n\" + str(i))\n",
    "        time.sleep(1)\n",
    "\n",
    "# show the text\n",
    "def show_text_animation2(text):\n",
    "    for i in range(0, len(text), 100):\n",
    "        sys.stdout.write(text[i:i+100])\n",
    "        sys.stdout.flush()\n",
    "        time.sleep(1)\n",
    "\n",
    "txt = random_text()\n",
    "img = random_image()\n",
    "show_text_animation(txt)\n",
    "# show_image(img)\n"
   ]
  },
  {
   "cell_type": "code",
   "execution_count": null,
   "metadata": {},
   "outputs": [],
   "source": [
    "# launch program say \"hello world\"\n",
    "!say \"hello world\""
   ]
  },
  {
   "attachments": {},
   "cell_type": "markdown",
   "metadata": {},
   "source": [
    "## Playwright tests\n",
    "\n",
    "* [] visit a page\n",
    "* [] take a screenshot\n",
    "* [] click a button\n",
    "* [] fill a form\n",
    "* [] cli\n"
   ]
  },
  {
   "cell_type": "code",
   "execution_count": null,
   "metadata": {},
   "outputs": [],
   "source": [
    "# install pytest \n",
    "!pip install pytest"
   ]
  },
  {
   "cell_type": "code",
   "execution_count": null,
   "metadata": {},
   "outputs": [],
   "source": [
    "from playwright.async_api import async_playwright\n",
    "playwright = await async_playwright().start()\n",
    "browser = await playwright.chromium.launch()\n",
    "page = await browser.new_page()\n",
    "\n",
    "await page.goto(\"http://localhost:5174/\")\n",
    "# save screenshot in file with timestamp ymd-his\n",
    "import datetime\n",
    "now = datetime.datetime.now()\n",
    "filename = f\"my-example-{now.strftime('%Y%m%d-%H%M%S')}.png\"\n",
    "await page.screenshot(path=filename, full_page=True)\n",
    "\n",
    "await browser.close()\n",
    "await playwright.stop()\n",
    "\n",
    "# show screenshot\n",
    "from IPython.display import Image\n",
    "Image(filename=filename)"
   ]
  },
  {
   "cell_type": "code",
   "execution_count": null,
   "metadata": {},
   "outputs": [],
   "source": [
    "from playwright.async_api import async_playwright\n",
    "playwright = await async_playwright().start()\n",
    "browser = await playwright.chromium.launch()\n",
    "page = await browser.new_page()\n",
    "\n",
    "# create folder my-data if not exists\n",
    "!mkdir -p my-data\n",
    "\n",
    "async def handle_request(route, request):\n",
    "    # print(request.url)\n",
    "    # if request is js, abort it\n",
    "    if request.resource_type == \"script\":\n",
    "        # print(\"Aborting request: \" + request.url)\n",
    "        await route.abort()\n",
    "    else:\n",
    "        await route.continue_()\n",
    "\n",
    "async def read_webpage (url, tag, selector=\"h3\"):\n",
    "    # block js requests\n",
    "    await page.route(\"**/*\", handle_request)\n",
    "\n",
    "    await page.goto(url)\n",
    "    # save screenshot in file with timestamp ymd-his\n",
    "    import datetime\n",
    "    now = datetime.datetime.now()\n",
    "    snow = now.strftime('%Y%m%d-%H%M%S')\n",
    "    filename = f\"my-data/shot-{tag}-{snow}.png\"\n",
    "    await page.screenshot(path=filename, full_page=True)\n",
    "\n",
    "\n",
    "    # get all titles h3\n",
    "    my_titles = []\n",
    "    titles = await page.query_selector_all(selector)\n",
    "    for title in titles:\n",
    "        # add title to list\n",
    "        tt = await title.inner_text()\n",
    "        my_titles.append(tt)\n",
    "        # print(await title.inner_text())\n",
    "\n",
    "    # concatenate all titles in one string with separator newline\n",
    "    txt_titles = \"\"\n",
    "\n",
    "    for title in my_titles:\n",
    "        txt_titles += title + \"\\n\"\n",
    "\n",
    "    # print(txt_titles)\n",
    "\n",
    "\n",
    "    # save my_titles in plain file with one title per line\n",
    "    with open(f\"my-data/titles-{tag}-{snow}.txt\", 'w') as f:\n",
    "            f.write(str(txt_titles))\n",
    "\n",
    "    # save my_titles in json file\n",
    "    import json\n",
    "    with open(f\"my-data/titles-{tag}-{snow}.json\", 'w') as f:\n",
    "        json.dump(my_titles, f)\n",
    "\n",
    "\n",
    "    await browser.close()\n",
    "    await playwright.stop()\n",
    "\n",
    "# show screenshot\n",
    "#from IPython.display import Image\n",
    "#Image(filename=filename)\n",
    "\n",
    "await read_webpage(\"https://www.lesechos.fr/\", \"lesechos\", \"h3\")\n",
    "\n",
    "# blocked by accept cookies popup\n",
    "await read_webpage(\"https://lefigaro.fr/\", \"lefigaro\", \"h2\")\n"
   ]
  },
  {
   "attachments": {},
   "cell_type": "markdown",
   "metadata": {},
   "source": [
    "## THREADING\n"
   ]
  },
  {
   "cell_type": "code",
   "execution_count": null,
   "metadata": {},
   "outputs": [],
   "source": [
    "import threading\n",
    "import time\n",
    "import itertools\n",
    "\n",
    "stop_threads = False\n",
    "\n",
    "def run():\n",
    "    for i in itertools.count(0):\n",
    "        global stop_threads\n",
    "        if stop_threads:\n",
    "            break\n",
    "\n",
    "        time.sleep(1)\n",
    "        print('output from background {}'.format(i))\n",
    "        \n",
    "t = threading.Thread(target=run)\n",
    "t.daemon = True\n",
    "t.start()"
   ]
  },
  {
   "cell_type": "code",
   "execution_count": null,
   "metadata": {},
   "outputs": [],
   "source": [
    "# kill the thread\n",
    "stop_threads = True\n",
    "t.join()"
   ]
  },
  {
   "attachments": {},
   "cell_type": "markdown",
   "metadata": {},
   "source": [
    "## IFRAME"
   ]
  },
  {
   "cell_type": "code",
   "execution_count": null,
   "metadata": {},
   "outputs": [],
   "source": [
    "# show https://applh.com in a iframe\n",
    "from IPython.display import IFrame\n",
    "IFrame(src='http://localhost:8888/', width=\"100%\", height=600)"
   ]
  },
  {
   "attachments": {},
   "cell_type": "markdown",
   "metadata": {},
   "source": [
    "## YOUTUBE VIDEO"
   ]
  },
  {
   "cell_type": "code",
   "execution_count": null,
   "metadata": {},
   "outputs": [],
   "source": [
    "from IPython.display import YouTubeVideo\n",
    "\n",
    "# show youtube video at width 100%\n",
    "yt = YouTubeVideo('RPhuUy-SjcA', width=\"100%\", height=450)\n",
    "display(yt)\n"
   ]
  },
  {
   "attachments": {},
   "cell_type": "markdown",
   "metadata": {},
   "source": [
    "### LOAD JSON FILE\n"
   ]
  },
  {
   "cell_type": "code",
   "execution_count": null,
   "metadata": {},
   "outputs": [],
   "source": [
    "# load json file my-example.json\n",
    "import json\n",
    "\n",
    "tasks = []\n",
    "with open('my-example.json') as f:\n",
    "    data = json.load(f)\n",
    "    print(data)\n",
    "    tasks = data['tasks']\n",
    "\n",
    "# show tasks\n",
    "tasks\n"
   ]
  }
 ],
 "metadata": {
  "kernelspec": {
   "display_name": "Python 3",
   "language": "python",
   "name": "python3"
  },
  "language_info": {
   "codemirror_mode": {
    "name": "ipython",
    "version": 3
   },
   "file_extension": ".py",
   "mimetype": "text/x-python",
   "name": "python",
   "nbconvert_exporter": "python",
   "pygments_lexer": "ipython3",
   "version": "3.11.3"
  },
  "orig_nbformat": 4
 },
 "nbformat": 4,
 "nbformat_minor": 2
}
