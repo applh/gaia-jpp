{
 "cells": [
  {
   "attachments": {},
   "cell_type": "markdown",
   "metadata": {},
   "source": [
    "# GAIA\n",
    "\n",
    "## TIMELINE\n",
    "\n",
    "* 1 year = 365 days * 24 hours * 3600 seconds\n",
    "* 1 year in seconds\n",
    "* 365 x 24 x 3600 = 31.536.000\n",
    "* 20 years in seconds\n",
    "* 20 x 31.536.000 = 630.720.000\n",
    "\n",
    "* 1 Byte = 8 bits\n",
    "* 1 KB = 1.000 Bytes\n",
    "* 1 MB = 1.000.000 Bytes\n",
    "* 1 GB = 1.000.000.000 Bytes\n",
    "* 1 TB = 1.000 GB\n",
    "\n",
    "* time from birth to workstation\n",
    "* human = 20 years\n",
    "* ai = 2 years\n",
    "\n",
    "* all necessary skills to work are less than 1 TB\n",
    "* 2 years in minutes = 2 x 365 x 24 x 60 = 1.051.200\n",
    "* => around 1 MB per minute\n",
    "* (cron job is every minute...)\n",
    "\n"
   ]
  },
  {
   "cell_type": "code",
   "execution_count": null,
   "metadata": {},
   "outputs": [],
   "source": [
    "# launch program say \"hello world\"\n",
    "!say \"hello world\""
   ]
  },
  {
   "attachments": {},
   "cell_type": "markdown",
   "metadata": {},
   "source": [
    "## Playwright tests\n",
    "\n",
    "* [] visit a page\n",
    "* [] take a screenshot\n",
    "* [] click a button\n",
    "* [] fill a form\n",
    "* [] cli\n"
   ]
  },
  {
   "cell_type": "code",
   "execution_count": null,
   "metadata": {},
   "outputs": [],
   "source": [
    "# install pytest \n",
    "!pip install pytest"
   ]
  },
  {
   "cell_type": "code",
   "execution_count": null,
   "metadata": {},
   "outputs": [],
   "source": [
    "from playwright.async_api import async_playwright\n",
    "playwright = await async_playwright().start()\n",
    "browser = await playwright.chromium.launch()\n",
    "page = await browser.new_page()\n",
    "\n",
    "await page.goto(\"http://localhost:5174/\")\n",
    "# save screenshot in file with timestamp ymd-his\n",
    "import datetime\n",
    "now = datetime.datetime.now()\n",
    "filename = f\"my-example-{now.strftime('%Y%m%d-%H%M%S')}.png\"\n",
    "await page.screenshot(path=filename, full_page=True)\n",
    "\n",
    "await browser.close()\n",
    "await playwright.stop()\n",
    "\n",
    "# show screenshot\n",
    "from IPython.display import Image\n",
    "Image(filename=filename)"
   ]
  },
  {
   "cell_type": "code",
   "execution_count": null,
   "metadata": {},
   "outputs": [],
   "source": [
    "from playwright.async_api import async_playwright\n",
    "playwright = await async_playwright().start()\n",
    "browser = await playwright.chromium.launch()\n",
    "page = await browser.new_page()\n",
    "\n",
    "# create folder my-data if not exists\n",
    "!mkdir -p my-data\n",
    "\n",
    "async def handle_request(route, request):\n",
    "    # print(request.url)\n",
    "    # if request is js, abort it\n",
    "    if request.resource_type == \"script\":\n",
    "        # print(\"Aborting request: \" + request.url)\n",
    "        await route.abort()\n",
    "    else:\n",
    "        await route.continue_()\n",
    "\n",
    "async def read_webpage (url, tag, selector=\"h3\"):\n",
    "    # block js requests\n",
    "    await page.route(\"**/*\", handle_request)\n",
    "\n",
    "    await page.goto(url)\n",
    "    # save screenshot in file with timestamp ymd-his\n",
    "    import datetime\n",
    "    now = datetime.datetime.now()\n",
    "    snow = now.strftime('%Y%m%d-%H%M%S')\n",
    "    filename = f\"my-data/shot-{tag}-{snow}.png\"\n",
    "    await page.screenshot(path=filename, full_page=True)\n",
    "\n",
    "\n",
    "    # get all titles h3\n",
    "    my_titles = []\n",
    "    titles = await page.query_selector_all(selector)\n",
    "    for title in titles:\n",
    "        # add title to list\n",
    "        tt = await title.inner_text()\n",
    "        my_titles.append(tt)\n",
    "        # print(await title.inner_text())\n",
    "\n",
    "    # concatenate all titles in one string with separator newline\n",
    "    txt_titles = \"\"\n",
    "\n",
    "    for title in my_titles:\n",
    "        txt_titles += title + \"\\n\"\n",
    "\n",
    "    # print(txt_titles)\n",
    "\n",
    "\n",
    "    # save my_titles in plain file with one title per line\n",
    "    with open(f\"my-data/titles-{tag}-{snow}.txt\", 'w') as f:\n",
    "            f.write(str(txt_titles))\n",
    "\n",
    "    # save my_titles in json file\n",
    "    import json\n",
    "    with open(f\"my-data/titles-{tag}-{snow}.json\", 'w') as f:\n",
    "        json.dump(my_titles, f)\n",
    "\n",
    "\n",
    "    await browser.close()\n",
    "    await playwright.stop()\n",
    "\n",
    "# show screenshot\n",
    "#from IPython.display import Image\n",
    "#Image(filename=filename)\n",
    "\n",
    "await read_webpage(\"https://www.lesechos.fr/\", \"lesechos\", \"h3\")\n",
    "\n",
    "# blocked by accept cookies popup\n",
    "await read_webpage(\"https://lefigaro.fr/\", \"lefigaro\", \"h2\")\n"
   ]
  },
  {
   "attachments": {},
   "cell_type": "markdown",
   "metadata": {},
   "source": [
    "## THREADING\n"
   ]
  },
  {
   "cell_type": "code",
   "execution_count": null,
   "metadata": {},
   "outputs": [],
   "source": [
    "import threading\n",
    "import time\n",
    "import itertools\n",
    "\n",
    "stop_threads = False\n",
    "\n",
    "def run():\n",
    "    for i in itertools.count(0):\n",
    "        global stop_threads\n",
    "        if stop_threads:\n",
    "            break\n",
    "\n",
    "        time.sleep(1)\n",
    "        print('output from background {}'.format(i))\n",
    "        \n",
    "t = threading.Thread(target=run)\n",
    "t.daemon = True\n",
    "t.start()"
   ]
  },
  {
   "cell_type": "code",
   "execution_count": null,
   "metadata": {},
   "outputs": [],
   "source": [
    "# kill the thread\n",
    "stop_threads = True\n",
    "t.join()"
   ]
  },
  {
   "attachments": {},
   "cell_type": "markdown",
   "metadata": {},
   "source": [
    "## IFRAME"
   ]
  },
  {
   "cell_type": "code",
   "execution_count": null,
   "metadata": {},
   "outputs": [],
   "source": [
    "# show https://applh.com in a iframe\n",
    "from IPython.display import IFrame\n",
    "IFrame(src='http://localhost:8888/', width=\"100%\", height=600)"
   ]
  },
  {
   "attachments": {},
   "cell_type": "markdown",
   "metadata": {},
   "source": [
    "## YOUTUBE VIDEO"
   ]
  },
  {
   "cell_type": "code",
   "execution_count": null,
   "metadata": {},
   "outputs": [],
   "source": [
    "from IPython.display import YouTubeVideo\n",
    "\n",
    "# show youtube video at width 100%\n",
    "yt = YouTubeVideo('RPhuUy-SjcA', width=\"100%\", height=450)\n",
    "display(yt)\n"
   ]
  },
  {
   "attachments": {},
   "cell_type": "markdown",
   "metadata": {},
   "source": [
    "### LOAD JSON FILE\n"
   ]
  },
  {
   "cell_type": "code",
   "execution_count": null,
   "metadata": {},
   "outputs": [],
   "source": [
    "# load json file my-example.json\n",
    "import json\n",
    "\n",
    "tasks = []\n",
    "with open('my-example.json') as f:\n",
    "    data = json.load(f)\n",
    "    print(data)\n",
    "    tasks = data['tasks']\n",
    "\n",
    "# show tasks\n",
    "tasks\n"
   ]
  }
 ],
 "metadata": {
  "kernelspec": {
   "display_name": "Python 3",
   "language": "python",
   "name": "python3"
  },
  "language_info": {
   "codemirror_mode": {
    "name": "ipython",
    "version": 3
   },
   "file_extension": ".py",
   "mimetype": "text/x-python",
   "name": "python",
   "nbconvert_exporter": "python",
   "pygments_lexer": "ipython3",
   "version": "3.11.3"
  },
  "orig_nbformat": 4
 },
 "nbformat": 4,
 "nbformat_minor": 2
}
