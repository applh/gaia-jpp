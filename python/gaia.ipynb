{
 "cells": [
  {
   "cell_type": "code",
   "execution_count": null,
   "metadata": {},
   "outputs": [],
   "source": [
    "# launch program say \"hello world\"\n",
    "!say \"hello world\""
   ]
  },
  {
   "attachments": {},
   "cell_type": "markdown",
   "metadata": {},
   "source": [
    "## Playwright tests\n",
    "\n",
    "* [] visit a page\n",
    "* [] take a screenshot\n",
    "* [] click a button\n",
    "* [] fill a form\n",
    "* [] cli\n"
   ]
  },
  {
   "cell_type": "code",
   "execution_count": null,
   "metadata": {},
   "outputs": [],
   "source": [
    "# install pytest \n",
    "!pip install pytest"
   ]
  },
  {
   "cell_type": "code",
   "execution_count": null,
   "metadata": {},
   "outputs": [],
   "source": [
    "from playwright.async_api import async_playwright\n",
    "playwright = await async_playwright().start()\n",
    "browser = await playwright.chromium.launch()\n",
    "page = await browser.new_page()\n",
    "\n",
    "await page.goto(\"http://localhost:5174/\")\n",
    "# save screenshot in file with timestamp ymd-his\n",
    "import datetime\n",
    "now = datetime.datetime.now()\n",
    "filename = f\"my-example-{now.strftime('%Y%m%d-%H%M%S')}.png\"\n",
    "await page.screenshot(path=filename, full_page=True)\n",
    "\n",
    "await browser.close()\n",
    "await playwright.stop()\n",
    "\n",
    "# show screenshot\n",
    "from IPython.display import Image\n",
    "Image(filename=filename)"
   ]
  },
  {
   "attachments": {},
   "cell_type": "markdown",
   "metadata": {},
   "source": [
    "## THREADING\n"
   ]
  },
  {
   "cell_type": "code",
   "execution_count": null,
   "metadata": {},
   "outputs": [],
   "source": [
    "import threading\n",
    "import time\n",
    "import itertools\n",
    "\n",
    "stop_threads = False\n",
    "\n",
    "def run():\n",
    "    for i in itertools.count(0):\n",
    "        global stop_threads\n",
    "        if stop_threads:\n",
    "            break\n",
    "\n",
    "        time.sleep(1)\n",
    "        print('output from background {}'.format(i))\n",
    "        \n",
    "t = threading.Thread(target=run)\n",
    "t.daemon = True\n",
    "t.start()"
   ]
  },
  {
   "cell_type": "code",
   "execution_count": null,
   "metadata": {},
   "outputs": [],
   "source": [
    "# kill the thread\n",
    "stop_threads = True\n",
    "t.join()"
   ]
  },
  {
   "attachments": {},
   "cell_type": "markdown",
   "metadata": {},
   "source": [
    "## IFRAME"
   ]
  },
  {
   "cell_type": "code",
   "execution_count": 27,
   "metadata": {},
   "outputs": [
    {
     "data": {
      "text/html": [
       "\n",
       "        <iframe\n",
       "            width=\"100%\"\n",
       "            height=\"600\"\n",
       "            src=\"http://localhost:8888/\"\n",
       "            frameborder=\"0\"\n",
       "            allowfullscreen\n",
       "            \n",
       "        ></iframe>\n",
       "        "
      ],
      "text/plain": [
       "<IPython.lib.display.IFrame at 0x124e76310>"
      ]
     },
     "execution_count": 27,
     "metadata": {},
     "output_type": "execute_result"
    }
   ],
   "source": [
    "# show https://applh.com in a iframe\n",
    "from IPython.display import IFrame\n",
    "IFrame(src='http://localhost:8888/', width=\"100%\", height=600)"
   ]
  },
  {
   "attachments": {},
   "cell_type": "markdown",
   "metadata": {},
   "source": [
    "## YOUTUBE VIDEO"
   ]
  },
  {
   "cell_type": "code",
   "execution_count": null,
   "metadata": {},
   "outputs": [],
   "source": [
    "from IPython.display import YouTubeVideo\n",
    "\n",
    "# show youtube video at width 100%\n",
    "yt = YouTubeVideo('RPhuUy-SjcA', width=\"100%\", height=450)\n",
    "display(yt)\n"
   ]
  }
 ],
 "metadata": {
  "kernelspec": {
   "display_name": "Python 3",
   "language": "python",
   "name": "python3"
  },
  "language_info": {
   "codemirror_mode": {
    "name": "ipython",
    "version": 3
   },
   "file_extension": ".py",
   "mimetype": "text/x-python",
   "name": "python",
   "nbconvert_exporter": "python",
   "pygments_lexer": "ipython3",
   "version": "3.11.3"
  },
  "orig_nbformat": 4
 },
 "nbformat": 4,
 "nbformat_minor": 2
}
