{
 "cells": [
  {
   "cell_type": "code",
   "execution_count": null,
   "metadata": {},
   "outputs": [],
   "source": [
    "# show http://localhost:3030/ in a iframe\n",
    "from IPython.display import IFrame\n",
    "IFrame(src='http://localhost:3030/', width=\"100%\", height=600)"
   ]
  },
  {
   "cell_type": "code",
   "execution_count": null,
   "metadata": {},
   "outputs": [],
   "source": [
    "\n",
    "# show http://localhost:3030/ in a iframe\n",
    "from IPython.display import IFrame\n",
    "IFrame(src='http://localhost:3030/index.html', width=\"100%\", height=600)\n",
    "#display(iframe)"
   ]
  },
  {
   "cell_type": "code",
   "execution_count": null,
   "metadata": {},
   "outputs": [],
   "source": [
    "# change dir to ./backpack-demo\n",
    "%cd ./backpack-demo\n",
    "with open(\"./index.html\", \"r\") as f:\n",
    "    html = f.read()\n",
    "    # show html page in a ipynb widget\n",
    "    from IPython.display import HTML\n",
    "    wid_html = HTML(html)\n",
    "    display(wid_html)\n",
    "    "
   ]
  },
  {
   "cell_type": "code",
   "execution_count": null,
   "metadata": {},
   "outputs": [],
   "source": [
    "# start php local server at folder ./backpack-demo and port 3030\n",
    "!pwd\n",
    "!php -S localhost:3030 -t ./backpack-demo"
   ]
  }
 ],
 "metadata": {
  "kernelspec": {
   "display_name": "Python 3",
   "language": "python",
   "name": "python3"
  },
  "language_info": {
   "codemirror_mode": {
    "name": "ipython",
    "version": 3
   },
   "file_extension": ".py",
   "mimetype": "text/x-python",
   "name": "python",
   "nbconvert_exporter": "python",
   "pygments_lexer": "ipython3",
   "version": "3.11.3"
  },
  "orig_nbformat": 4
 },
 "nbformat": 4,
 "nbformat_minor": 2
}
