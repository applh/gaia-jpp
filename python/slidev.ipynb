{
 "cells": [
  {
   "cell_type": "code",
   "execution_count": null,
   "metadata": {},
   "outputs": [],
   "source": [
    "# show http://localhost:3030/ in a iframe\n",
    "from IPython.display import IFrame\n",
    "IFrame(src='http://localhost:3030/', width=\"100%\", height=600)"
   ]
  },
  {
   "cell_type": "code",
   "execution_count": null,
   "metadata": {},
   "outputs": [],
   "source": [
    "\n",
    "# show http://localhost:3030/ in a iframe\n",
    "from IPython.display import IFrame\n",
    "IFrame(src='http://localhost:3030/index.html', width=\"100%\", height=600)\n",
    "#display(iframe)"
   ]
  },
  {
   "cell_type": "code",
   "execution_count": null,
   "metadata": {},
   "outputs": [],
   "source": [
    "# change dir to ./backpack-demo\n",
    "%cd ./backpack-demo\n",
    "with open(\"./index.html\", \"r\") as f:\n",
    "    html = f.read()\n",
    "    # show html page in a ipynb widget\n",
    "    from IPython.display import HTML\n",
    "    wid_html = HTML(html)\n",
    "    display(wid_html)\n",
    "    "
   ]
  },
  {
   "cell_type": "code",
   "execution_count": null,
   "metadata": {},
   "outputs": [],
   "source": [
    "# start php local server at folder ./backpack-demo and port 3030\n",
    "!pwd\n",
    "!php -S localhost:3030 -t ./backpack-demo"
   ]
  },
  {
   "cell_type": "code",
   "execution_count": null,
   "metadata": {},
   "outputs": [],
   "source": [
    "# go to folder ../slidev and launch export to pdf file with timestamp\n",
    "src = 'my-vue.md'\n",
    "\n",
    "# get timestamp in format ymd-His\n",
    "import datetime\n",
    "now = datetime.datetime.now()\n",
    "timestamp = now.strftime(\"%Y%m%d-%H%M%S\")\n",
    "print(timestamp)\n",
    "target = src + '-' + timestamp + '.pdf'\n",
    "\n",
    "!cd ../slidev && slidev export $src --output $target\n",
    "\n",
    "\n"
   ]
  },
  {
   "cell_type": "code",
   "execution_count": null,
   "metadata": {},
   "outputs": [],
   "source": [
    "# %run def-common.ipynb\n",
    "%run def-vite.ipynb\n",
    "\n",
    "src = 'vue.md'\n",
    "# call function slidev_pdf\n",
    "pdf_export = slidev_pdf(src)\n",
    "# get basename\n",
    "import os\n",
    "pdf_export = os.path.basename(pdf_export)\n",
    "# create subfolder with basename without extension\n",
    "png_folder = os.path.splitext(pdf_export)[0]\n",
    "!mkdir -p ../slidev/my-pdfs/$png_folder\n",
    "# replace pdf extension by png\n",
    "png_export = pdf_export.replace('.pdf', '/slide.png')\n",
    "\n",
    "# convert pdf to png\n",
    "print (pdf_export)\n",
    "!cd ../slidev/my-pdfs && convert -density 300 -resize 1920x1920 $pdf_export $png_export\n",
    "\n",
    "# show files in folder\n",
    "!ls -l ../slidev/my-pdfs/$png_folder\n",
    "\n",
    "# convert png files to mp4 video\n",
    "!cd ../slidev/my-pdfs/$png_folder && ffmpeg -framerate 1/5 -i slide-%d.png -c:v libx264 -r 30 -pix_fmt yuv420p ../$png_folder.mp4"
   ]
  },
  {
   "cell_type": "code",
   "execution_count": null,
   "metadata": {},
   "outputs": [],
   "source": [
    "# convert pdf to png and resize to 1280x1280\n",
    "# https://stackoverflow.com/questions/6170246/how-do-i-use-python-to-convert-a-pdf-file-into-a-series-of-png-images\n",
    "src = 'vue-20230421-133747'\n",
    "src2 = src + '.pdf'\n",
    "\n",
    "!cd ../slidev/my-pdfs/ && convert -density 300 -resize 1280x1280 $src.pdf $src.png"
   ]
  },
  {
   "cell_type": "code",
   "execution_count": null,
   "metadata": {},
   "outputs": [],
   "source": [
    "# %run def-common.ipynb\n",
    "%run def-vite.ipynb\n",
    "\n",
    "src = 'vue.md'\n",
    "# call function slidev_pdf\n",
    "pdf_export = slidev_pdf(src)\n",
    "png_folder = slidev_pdf2png(pdf_export)\n",
    "print(png_folder)\n",
    "\n",
    "# get current dir\n",
    "import os\n",
    "curdir = os.getcwd()\n",
    "print(curdir)\n",
    "\n",
    "# change dir to ../slidev/my-pdfs/$png_folder\n",
    "os.chdir('../slidev/my-pdfs/' + png_folder)\n",
    "!pwd\n",
    "# convert png files to mp4 video\n",
    "video_file = '../' + png_folder + '.mp4'\n",
    "!ffmpeg -framerate 1/5 -i slide-%d.png -c:v libx264 -r 30 -pix_fmt yuv420p $video_file\n",
    "\n",
    "# change dir to curdir\n",
    "os.chdir(curdir)\n",
    "!pwd\n",
    "\n"
   ]
  },
  {
   "cell_type": "code",
   "execution_count": null,
   "metadata": {},
   "outputs": [],
   "source": [
    "# %run def-common.ipynb\n",
    "%run def-vite.ipynb\n",
    "\n",
    "src = 'vue.md'\n",
    "# call function slidev_pdf\n",
    "pdf_export = slidev_pdf(src)\n",
    "png_folder = slidev_pdf2png(pdf_export)\n",
    "slidev_png2mp4(png_folder)\n",
    "\n",
    "# show the video\n",
    "video_file = './../slidev/my-pdfs/' + png_folder + '.mp4'\n",
    "print(video_file)\n",
    "\n",
    "#from IPython.display import HTML\n",
    "#video_player = HTML(\"\"\"\n",
    "#<video width=\"100%\" height=\"600\" controls>\n",
    "#\n",
    "#    <source src=\"{video_file}\" type=\"video/mp4\">\n",
    "#</video>\n",
    "#\"\"\")\n",
    "#display(video_player)\n"
   ]
  },
  {
   "cell_type": "code",
   "execution_count": null,
   "metadata": {},
   "outputs": [],
   "source": [
    "# %run def-common.ipynb\n",
    "%run def-vite.ipynb\n",
    "\n",
    "src = 'vue.md'\n",
    "# call function slidev_png\n",
    "png_folder = slidev_png(src)\n",
    "video_file = slidev_png2mp4(png_folder)\n",
    "# get basename\n",
    "import os\n",
    "video_file = os.path.basename(video_file)\n",
    "video_path = '../slidev/my-pdfs/' + video_file\n",
    "display(video_path)\n",
    "# show the video\n",
    "from IPython.display import Video\n",
    "#Video(video_path, embed=True, width=1000, height=600)\n",
    "Video(video_path, width=1000, height=600)\n",
    "\n"
   ]
  },
  {
   "cell_type": "code",
   "execution_count": null,
   "metadata": {},
   "outputs": [],
   "source": [
    "%run def-vite.ipynb\n",
    "\n",
    "src = 'vue.md'\n",
    "video_file = slidev_build_video(src)\n",
    "\n",
    "video_path = '../slidev/my-pdfs/' + video_file\n",
    "display(video_path)\n",
    "# show the video\n",
    "from IPython.display import Video\n",
    "#Video(video_path, embed=True, width=1000, height=600)\n",
    "Video(video_path, width=1000, height=600)\n"
   ]
  }
 ],
 "metadata": {
  "kernelspec": {
   "display_name": "Python 3",
   "language": "python",
   "name": "python3"
  },
  "language_info": {
   "codemirror_mode": {
    "name": "ipython",
    "version": 3
   },
   "file_extension": ".py",
   "mimetype": "text/x-python",
   "name": "python",
   "nbconvert_exporter": "python",
   "pygments_lexer": "ipython3",
   "version": "3.11.3"
  },
  "orig_nbformat": 4
 },
 "nbformat": 4,
 "nbformat_minor": 2
}
