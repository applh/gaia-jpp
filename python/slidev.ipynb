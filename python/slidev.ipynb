{
 "cells": [
  {
   "cell_type": "code",
   "execution_count": null,
   "metadata": {},
   "outputs": [],
   "source": [
    "# show http://localhost:3030/ in a iframe\n",
    "from IPython.display import IFrame\n",
    "IFrame(src='http://localhost:3030/', width=\"100%\", height=600)"
   ]
  },
  {
   "cell_type": "code",
   "execution_count": null,
   "metadata": {},
   "outputs": [],
   "source": [
    "\n",
    "# show http://localhost:3030/ in a iframe\n",
    "from IPython.display import IFrame\n",
    "IFrame(src='http://localhost:3030/index.html', width=\"100%\", height=600)\n",
    "#display(iframe)"
   ]
  },
  {
   "cell_type": "code",
   "execution_count": null,
   "metadata": {},
   "outputs": [],
   "source": [
    "# change dir to ./backpack-demo\n",
    "%cd ./backpack-demo\n",
    "with open(\"./index.html\", \"r\") as f:\n",
    "    html = f.read()\n",
    "    # show html page in a ipynb widget\n",
    "    from IPython.display import HTML\n",
    "    wid_html = HTML(html)\n",
    "    display(wid_html)\n",
    "    "
   ]
  },
  {
   "cell_type": "code",
   "execution_count": null,
   "metadata": {},
   "outputs": [],
   "source": [
    "# start php local server at folder ./backpack-demo and port 3030\n",
    "!pwd\n",
    "!php -S localhost:3030 -t ./backpack-demo"
   ]
  },
  {
   "cell_type": "code",
   "execution_count": null,
   "metadata": {},
   "outputs": [],
   "source": [
    "# go to folder ../slidev and launch export to pdf file with timestamp\n",
    "src = 'my-vue.md'\n",
    "\n",
    "# get timestamp in format ymd-His\n",
    "import datetime\n",
    "now = datetime.datetime.now()\n",
    "timestamp = now.strftime(\"%Y%m%d-%H%M%S\")\n",
    "print(timestamp)\n",
    "target = src + '-' + timestamp + '.pdf'\n",
    "\n",
    "!cd ../slidev && slidev export $src --output $target\n",
    "\n",
    "\n"
   ]
  },
  {
   "cell_type": "code",
   "execution_count": 7,
   "metadata": {},
   "outputs": [
    {
     "name": "stdout",
     "output_type": "stream",
     "text": [
      "20230421-130943\n",
      "\n",
      "\n",
      "  \u001b[36m●\u001b[39m\u001b[34m■\u001b[39m\u001b[33m▲\u001b[39m\n",
      "\u001b[1m  Slidev\u001b[22m  \u001b[34mv0.40.14\u001b[39m \n",
      "\n",
      "\u001b[2m  theme   \u001b[22m\u001b[32m@slidev/theme-seriph\u001b[39m\n",
      "\u001b[2m  entry   \u001b[22m\u001b[2m/Users/lh/Documents/2023/gaia-jpp/slidev/\u001b[22mvue.md\n",
      "\n",
      "\n",
      "\u001b7\u001b[?25l\u001b[?7l\u001b[1G  \u001b[36m●\u001b[39m \u001b[33mrendering\u001b[39m\u001b[2m\u001b[33m...\u001b[39m\u001b[22m\u001b[0K\u001b[1G  \u001b[32m◆\u001b[39m \u001b[33mrendering\u001b[39m\u001b[2m\u001b[33m...\u001b[39m\u001b[22m\u001b[0K\u001b[1G  \u001b[34m■\u001b[39m \u001b[33mrendering\u001b[39m\u001b[2m\u001b[33m...\u001b[39m\u001b[22m\u001b[0K\u001b[1G  \u001b[33m▲\u001b[39m \u001b[33mrendering\u001b[39m\u001b[2m\u001b[33m...\u001b[39m\u001b[22m\u001b[0K\u001b[1G  \u001b[36m●\u001b[39m \u001b[33mrendering\u001b[39m\u001b[2m\u001b[33m...\u001b[39m\u001b[22m\u001b[0K\u001b[1G  \u001b[32m◆\u001b[39m \u001b[33mrendering\u001b[39m\u001b[2m\u001b[33m...\u001b[39m\u001b[22m\u001b[0K\u001b[1G  \u001b[34m■\u001b[39m \u001b[33mrendering\u001b[39m\u001b[2m\u001b[33m...\u001b[39m\u001b[22m\u001b[0K\u001b[1G  \u001b[33m▲\u001b[39m \u001b[33mrendering\u001b[39m\u001b[2m\u001b[33m...\u001b[39m\u001b[22m\u001b[0K\u001b[1G  \u001b[36m●\u001b[39m \u001b[33mrendering\u001b[39m\u001b[2m\u001b[33m...\u001b[39m\u001b[22m\u001b[0K\u001b[1G  \u001b[32m◆\u001b[39m \u001b[33mrendering\u001b[39m\u001b[2m\u001b[33m...\u001b[39m\u001b[22m\u001b[0K\u001b[1G  \u001b[34m■\u001b[39m \u001b[33mrendering\u001b[39m\u001b[2m\u001b[33m...\u001b[39m\u001b[22m\u001b[0K\u001b[1G  \u001b[33m▲\u001b[39m \u001b[33mrendering\u001b[39m\u001b[2m\u001b[33m...\u001b[39m\u001b[22m\u001b[0K\u001b[1G  \u001b[36m●\u001b[39m \u001b[33mrendering\u001b[39m\u001b[2m\u001b[33m...\u001b[39m\u001b[22m\u001b[0K\u001b[1G  \u001b[32m◆\u001b[39m \u001b[33mrendering\u001b[39m\u001b[2m\u001b[33m...\u001b[39m\u001b[22m\u001b[0K\u001b[?25h\u001b[?7h\u001b8\u001b[1G\u001b[2K\u001b[32m  ✓ \u001b[39m\u001b[2mexported to \u001b[22m././my-pdfs/vue.md-20230421-130943.pdf\n",
      "\n"
     ]
    }
   ],
   "source": [
    "# %run def-common.ipynb\n",
    "%run def-vite.ipynb\n",
    "\n",
    "src = 'vue.md'\n",
    "# call function slidev_pdf\n",
    "slidev_pdf(src)"
   ]
  }
 ],
 "metadata": {
  "kernelspec": {
   "display_name": "Python 3",
   "language": "python",
   "name": "python3"
  },
  "language_info": {
   "codemirror_mode": {
    "name": "ipython",
    "version": 3
   },
   "file_extension": ".py",
   "mimetype": "text/x-python",
   "name": "python",
   "nbconvert_exporter": "python",
   "pygments_lexer": "ipython3",
   "version": "3.11.3"
  },
  "orig_nbformat": 4
 },
 "nbformat": 4,
 "nbformat_minor": 2
}
