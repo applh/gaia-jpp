{
 "cells": [
  {
   "cell_type": "code",
   "execution_count": null,
   "metadata": {},
   "outputs": [],
   "source": [
    "# clean all outputs from all notebooks in the current directory\n",
    "def clean_all_outputs():\n",
    "    import glob\n",
    "    for file in glob.glob(\"*.ipynb\"):\n",
    "        print(file)\n",
    "        # DANGER: the function is not working properly\n",
    "        # clean_outputs(file)\n",
    "\n",
    "def clean_outputs(file):\n",
    "    import nbformat\n",
    "    # read the file\n",
    "    with open(file) as f:\n",
    "        # use nbformat to parse the file\n",
    "        nb = nbformat.read(f, as_version=4)\n",
    "    # remove all outputs\n",
    "    nb.cells = [cell for cell in nb.cells if cell.cell_type != \"code\" or not cell.outputs]\n",
    "    # write the file\n",
    "    with open(file, \"w\", encoding=\"utf-8\") as f:\n",
    "        nbformat.write(nb, f)\n",
    "\n",
    "\n",
    "# clean_all_outputs()\n"
   ]
  }
 ],
 "metadata": {
  "kernelspec": {
   "display_name": "Python 3",
   "language": "python",
   "name": "python3"
  },
  "language_info": {
   "codemirror_mode": {
    "name": "ipython",
    "version": 3
   },
   "file_extension": ".py",
   "mimetype": "text/x-python",
   "name": "python",
   "nbconvert_exporter": "python",
   "pygments_lexer": "ipython3",
   "version": "3.11.3"
  },
  "orig_nbformat": 4
 },
 "nbformat": 4,
 "nbformat_minor": 2
}
