{
 "cells": [
  {
   "cell_type": "code",
   "execution_count": null,
   "metadata": {},
   "outputs": [],
   "source": [
    "# clean all outputs from all notebooks in the current directory\n",
    "def clean_all_outputs():\n",
    "    for file in glob.glob(\"*.ipynb\"):\n",
    "        clean_outputs(file)\n",
    "\n",
    "def clean_outputs(file):\n",
    "    import nbformat\n",
    "    with open(file) as f:\n",
    "        nb = nbformat.read(f, as_version=4)\n",
    "    nb.cells = [cell for cell in nb.cells if cell.cell_type != \"code\" or not cell.outputs]\n",
    "    with open(file, \"w\", encoding=\"utf-8\") as f:\n",
    "        nbformat.write(nb, f)\n",
    "\n"
   ]
  }
 ],
 "metadata": {
  "language_info": {
   "name": "python"
  },
  "orig_nbformat": 4
 },
 "nbformat": 4,
 "nbformat_minor": 2
}
