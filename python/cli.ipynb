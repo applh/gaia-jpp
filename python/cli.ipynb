{
 "cells": [
  {
   "cell_type": "code",
   "execution_count": null,
   "metadata": {},
   "outputs": [],
   "source": [
    "%run def-common.ipynb\n",
    "\n",
    "img_file = await playwright_page(\"http://gaia.test:8666/\", \"sc-gaia\")\n"
   ]
  }
 ],
 "metadata": {
  "language_info": {
   "name": "python"
  },
  "orig_nbformat": 4
 },
 "nbformat": 4,
 "nbformat_minor": 2
}
