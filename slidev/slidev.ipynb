{
 "cells": [
  {
   "attachments": {},
   "cell_type": "markdown",
   "metadata": {},
   "source": [
    "# Sli.dev (Slidev)\n",
    "\n",
    "## Sli.dev: Command line"
   ]
  },
  {
   "cell_type": "code",
   "execution_count": null,
   "metadata": {},
   "outputs": [],
   "source": [
    "# export slides in PDF format\n",
    "!slidev export your-slides.md --output your-slides.pdf"
   ]
  },
  {
   "cell_type": "code",
   "execution_count": null,
   "metadata": {},
   "outputs": [],
   "source": [
    "# export slides in PDF format\n",
    "!slidev export demo-book-100.md --output demo-book-100.pdf\n",
    "\n",
    "# show the file size\n",
    "!ls -lh demo-book-100.pdf\n"
   ]
  },
  {
   "cell_type": "code",
   "execution_count": null,
   "metadata": {},
   "outputs": [],
   "source": [
    "# export slides in PDF format\n",
    "!slidev export demo-linkedin.md --output demo-linkedin.pdf\n",
    "\n",
    "# show the file size\n",
    "!ls -lh demo-linkedin.pdf\n"
   ]
  },
  {
   "cell_type": "code",
   "execution_count": null,
   "metadata": {},
   "outputs": [],
   "source": [
    "# show the pdf file in MacOS app\n",
    "!open demo-book-100.pdf\n"
   ]
  },
  {
   "cell_type": "code",
   "execution_count": null,
   "metadata": {},
   "outputs": [],
   "source": [
    "# convert pdf to png\n",
    "!convert -density 100 demo-book-100.pdf my-frames/demo-book.png"
   ]
  },
  {
   "cell_type": "code",
   "execution_count": null,
   "metadata": {},
   "outputs": [],
   "source": [
    "# export slides in PDF format\n",
    "!slidev export demo-studio-100.md --output demo-studio-100.pdf\n",
    "\n",
    "# show the file size\n",
    "!ls -lh demo-studio-100.pdf\n"
   ]
  },
  {
   "cell_type": "code",
   "execution_count": null,
   "metadata": {},
   "outputs": [],
   "source": [
    "# export slides in PNG format\n",
    "# 100 slides is too much in one export (timeout problem ?)\n",
    "# cut the slides into 10 parts of 10 slides each\n",
    "# WARNING: output folder is overwritten\n",
    "# slide size OK with 1000x1500\n",
    "# (no timeout problem with 10 slides)\n",
    "\"\"\"\n",
    "!slidev export --format png --range 1-10 demo-studio-100.md --output my-frames/demo-studio-1-10\n",
    "!slidev export --format png --range 11-20 demo-studio-100.md --output my-frames/demo-studio-11-20\n",
    "!slidev export --format png --range 21-30 demo-studio-100.md --output my-frames/demo-studio-21-30\n",
    "!slidev export --format png --range 31-40 demo-studio-100.md --output my-frames/demo-studio-31-40\n",
    "!slidev export --format png --range 41-50 demo-studio-100.md --output my-frames/demo-studio-41-50\n",
    "!slidev export --format png --range 51-60 demo-studio-100.md --output my-frames/demo-studio-51-60\n",
    "!slidev export --format png --range 61-70 demo-studio-100.md --output my-frames/demo-studio-61-70\n",
    "!slidev export --format png --range 71-80 demo-studio-100.md --output my-frames/demo-studio-71-80\n",
    "!slidev export --format png --range 81-90 demo-studio-100.md --output my-frames/demo-studio-81-90\n",
    "!slidev export --format png --range 91-100 demo-studio-100.md --output my-frames/demo-studio-91-100\n",
    "\"\"\"\n",
    "# cut the slides into 20 parts of 5 slides each\n",
    "# WARNING: output folder is overwritten\n",
    "# slide size OK with 1500x2000\n",
    "# (no timeout problem with 5 slides)\n",
    "\"\"\"\n",
    "!slidev export --format png --range 1-5 demo-studio-100.md --output my-frames/demo-studio-1-5\n",
    "!slidev export --format png --range 6-10 demo-studio-100.md --output my-frames/demo-studio-6-10\n",
    "!slidev export --format png --range 11-15 demo-studio-100.md --output my-frames/demo-studio-11-15\n",
    "!slidev export --format png --range 16-20 demo-studio-100.md --output my-frames/demo-studio-16-20\n",
    "!slidev export --format png --range 21-25 demo-studio-100.md --output my-frames/demo-studio-21-25\n",
    "!slidev export --format png --range 26-30 demo-studio-100.md --output my-frames/demo-studio-26-30\n",
    "!slidev export --format png --range 31-35 demo-studio-100.md --output my-frames/demo-studio-31-35\n",
    "!slidev export --format png --range 36-40 demo-studio-100.md --output my-frames/demo-studio-36-40\n",
    "!slidev export --format png --range 41-45 demo-studio-100.md --output my-frames/demo-studio-41-45\n",
    "!slidev export --format png --range 46-50 demo-studio-100.md --output my-frames/demo-studio-46-50\n",
    "!slidev export --format png --range 51-55 demo-studio-100.md --output my-frames/demo-studio-51-55\n",
    "!slidev export --format png --range 56-60 demo-studio-100.md --output my-frames/demo-studio-56-60\n",
    "!slidev export --format png --range 61-65 demo-studio-100.md --output my-frames/demo-studio-61-65\n",
    "!slidev export --format png --range 66-70 demo-studio-100.md --output my-frames/demo-studio-66-70\n",
    "!slidev export --format png --range 71-75 demo-studio-100.md --output my-frames/demo-studio-71-75\n",
    "!slidev export --format png --range 76-80 demo-studio-100.md --output my-frames/demo-studio-76-80\n",
    "!slidev export --format png --range 81-85 demo-studio-100.md --output my-frames/demo-studio-81-85\n",
    "!slidev export --format png --range 86-90 demo-studio-100.md --output my-frames/demo-studio-86-90\n",
    "!slidev export --format png --range 91-95 demo-studio-100.md --output my-frames/demo-studio-91-95\n",
    "!slidev export --format png --range 96-100 demo-studio-100.md --output my-frames/demo-studio-96-100\n",
    "\"\"\"\n",
    "!slidev export --format png --range 1-5 demo-studio-100.md --output my-frames/demo-studio-1-5\n",
    "!slidev export --format png --range 6-10 demo-studio-100.md --output my-frames/demo-studio-6-10\n",
    "!slidev export --format png --range 11-15 demo-studio-100.md --output my-frames/demo-studio-11-15\n",
    "!slidev export --format png --range 16-20 demo-studio-100.md --output my-frames/demo-studio-16-20\n",
    "!slidev export --format png --range 21-25 demo-studio-100.md --output my-frames/demo-studio-21-25\n",
    "!slidev export --format png --range 26-30 demo-studio-100.md --output my-frames/demo-studio-26-30\n",
    "!slidev export --format png --range 31-35 demo-studio-100.md --output my-frames/demo-studio-31-35\n",
    "!slidev export --format png --range 36-40 demo-studio-100.md --output my-frames/demo-studio-36-40\n",
    "!slidev export --format png --range 41-45 demo-studio-100.md --output my-frames/demo-studio-41-45\n",
    "!slidev export --format png --range 46-50 demo-studio-100.md --output my-frames/demo-studio-46-50\n",
    "!slidev export --format png --range 51-55 demo-studio-100.md --output my-frames/demo-studio-51-55\n",
    "!slidev export --format png --range 56-60 demo-studio-100.md --output my-frames/demo-studio-56-60\n",
    "!slidev export --format png --range 61-65 demo-studio-100.md --output my-frames/demo-studio-61-65\n",
    "!slidev export --format png --range 66-70 demo-studio-100.md --output my-frames/demo-studio-66-70\n",
    "!slidev export --format png --range 71-75 demo-studio-100.md --output my-frames/demo-studio-71-75\n",
    "!slidev export --format png --range 76-80 demo-studio-100.md --output my-frames/demo-studio-76-80\n",
    "!slidev export --format png --range 81-85 demo-studio-100.md --output my-frames/demo-studio-81-85\n",
    "!slidev export --format png --range 86-90 demo-studio-100.md --output my-frames/demo-studio-86-90\n",
    "!slidev export --format png --range 91-95 demo-studio-100.md --output my-frames/demo-studio-91-95\n",
    "!slidev export --format png --range 96-100 demo-studio-100.md --output my-frames/demo-studio-96-100\n",
    "\n",
    "\n",
    "\n",
    "\n"
   ]
  },
  {
   "cell_type": "code",
   "execution_count": null,
   "metadata": {},
   "outputs": [],
   "source": [
    "# check if all frames have file size > 100000 bytes\n",
    "# (if not, the frame is probably empty)\n",
    "\n",
    "import os\n",
    "import glob\n",
    "\n",
    "count = 0\n",
    "for filename in glob.glob('my-frames/**.png'):\n",
    "    size = os.path.getsize(filename)\n",
    "    if size < 100000:\n",
    "        print('error', filename, size)\n",
    "    else:\n",
    "        print(filename, size)\n",
    "        count += 1\n",
    "\n",
    "print(count)"
   ]
  },
  {
   "cell_type": "code",
   "execution_count": null,
   "metadata": {},
   "outputs": [],
   "source": [
    "# move all frames in folder my-frames\n",
    "!mv -f my-frames/demo-studio-*/*.png my-frames/\n",
    "\n",
    "# build a video from the frames\n",
    "# WARNING: output file is overwritten\n",
    "# WARNING: -framerate must be before -i\n",
    "\n",
    "# !ffmpeg -y -hide_banner -loglevel error -i my-frames/%3d.png -framerate 1/9 -c:v libx264 -r 30 -pix_fmt yuv420p my-videos/demo-studio-100.mp4\n",
    "!ffmpeg -y -hide_banner -loglevel error -framerate 1/9 -i my-frames/%3d.png -c:v libx264 -r 30 -pix_fmt yuv420p my-videos/demo-studio-100.mp4"
   ]
  },
  {
   "cell_type": "code",
   "execution_count": null,
   "metadata": {},
   "outputs": [],
   "source": [
    "# BUG: charset problem for code 😱\n",
    "# convert pdf to png\n",
    "# full hd is 1920x1080\n",
    "# 4k is 3840x2160\n",
    "# density 200 => images 2083x3125\n",
    "# target is 1680x2160\n",
    "# so density should be 1680/2083*200 = 161 => 1667x2500   \n",
    "# so density should be 2160/3125*200 = 138 => 1438x2156\n",
    "# 140 => 1458x2188\n",
    "# !convert -density 138 demo-studio-100.pdf my-frames/demo-studio.png\n",
    "# convert and complete the image to 1680x2160\n",
    "!convert -density 138 demo-studio-100.pdf -gravity center -extent 1680x2160 my-frames/demo-studio.png\n"
   ]
  }
 ],
 "metadata": {
  "kernelspec": {
   "display_name": "Python 3",
   "language": "python",
   "name": "python3"
  },
  "language_info": {
   "codemirror_mode": {
    "name": "ipython",
    "version": 3
   },
   "file_extension": ".py",
   "mimetype": "text/x-python",
   "name": "python",
   "nbconvert_exporter": "python",
   "pygments_lexer": "ipython3",
   "version": "3.11.3"
  },
  "orig_nbformat": 4
 },
 "nbformat": 4,
 "nbformat_minor": 2
}
