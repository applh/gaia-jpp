{
 "cells": [
  {
   "attachments": {},
   "cell_type": "markdown",
   "metadata": {},
   "source": [
    "# Sli.dev (Slidev)\n",
    "\n",
    "## Sli.dev: Command line"
   ]
  },
  {
   "cell_type": "code",
   "execution_count": null,
   "metadata": {},
   "outputs": [],
   "source": [
    "# export slides in PDF format\n",
    "!slidev export your-slides.md --output your-slides.pdf"
   ]
  },
  {
   "cell_type": "code",
   "execution_count": null,
   "metadata": {},
   "outputs": [],
   "source": [
    "# export slides in PDF format\n",
    "!slidev export demo-book-100.md --output demo-book-100.pdf\n",
    "\n",
    "# show the file size\n",
    "!ls -lh demo-book-100.pdf\n"
   ]
  },
  {
   "cell_type": "code",
   "execution_count": null,
   "metadata": {},
   "outputs": [],
   "source": [
    "# export slides in PDF format\n",
    "!slidev export demo-linkedin.md --output demo-linkedin.pdf\n",
    "\n",
    "# show the file size\n",
    "!ls -lh demo-linkedin.pdf\n"
   ]
  },
  {
   "cell_type": "code",
   "execution_count": null,
   "metadata": {},
   "outputs": [],
   "source": [
    "# show the pdf file in MacOS app\n",
    "!open demo-book-100.pdf\n"
   ]
  },
  {
   "cell_type": "code",
   "execution_count": null,
   "metadata": {},
   "outputs": [],
   "source": [
    "# convert pdf to png\n",
    "!convert -density 100 demo-book-100.pdf my-frames/demo-book.png"
   ]
  },
  {
   "cell_type": "code",
   "execution_count": null,
   "metadata": {},
   "outputs": [],
   "source": [
    "# export slides in PDF format\n",
    "!slidev export demo-studio-100.md --output demo-studio-100.pdf\n",
    "\n",
    "# show the file size\n",
    "!ls -lh demo-studio-100.pdf\n"
   ]
  },
  {
   "cell_type": "code",
   "execution_count": null,
   "metadata": {},
   "outputs": [],
   "source": [
    "# export slides in PNG format\n",
    "# 100 slides is too much in one export (timeout problem ?)\n",
    "# cut the slides into 10 parts of 10 slides each\n",
    "# WARNING: output folder is overwritten\n",
    "# slide size OK with 1000x1500\n",
    "# (no timeout problem with 10 slides)\n",
    "\"\"\"\n",
    "!slidev export --format png --range 1-10 demo-studio-100.md --output my-frames/demo-studio-1-10\n",
    "!slidev export --format png --range 11-20 demo-studio-100.md --output my-frames/demo-studio-11-20\n",
    "!slidev export --format png --range 21-30 demo-studio-100.md --output my-frames/demo-studio-21-30\n",
    "!slidev export --format png --range 31-40 demo-studio-100.md --output my-frames/demo-studio-31-40\n",
    "!slidev export --format png --range 41-50 demo-studio-100.md --output my-frames/demo-studio-41-50\n",
    "!slidev export --format png --range 51-60 demo-studio-100.md --output my-frames/demo-studio-51-60\n",
    "!slidev export --format png --range 61-70 demo-studio-100.md --output my-frames/demo-studio-61-70\n",
    "!slidev export --format png --range 71-80 demo-studio-100.md --output my-frames/demo-studio-71-80\n",
    "!slidev export --format png --range 81-90 demo-studio-100.md --output my-frames/demo-studio-81-90\n",
    "!slidev export --format png --range 91-100 demo-studio-100.md --output my-frames/demo-studio-91-100\n",
    "\"\"\"\n",
    "# cut the slides into 20 parts of 5 slides each\n",
    "# WARNING: output folder is overwritten\n",
    "# slide size OK with 1500x2000\n",
    "# (no timeout problem with 5 slides)\n",
    "\"\"\"\n",
    "!slidev export --format png --range 1-5 demo-studio-100.md --output my-frames/demo-studio-1-5\n",
    "!slidev export --format png --range 6-10 demo-studio-100.md --output my-frames/demo-studio-6-10\n",
    "!slidev export --format png --range 11-15 demo-studio-100.md --output my-frames/demo-studio-11-15\n",
    "!slidev export --format png --range 16-20 demo-studio-100.md --output my-frames/demo-studio-16-20\n",
    "!slidev export --format png --range 21-25 demo-studio-100.md --output my-frames/demo-studio-21-25\n",
    "!slidev export --format png --range 26-30 demo-studio-100.md --output my-frames/demo-studio-26-30\n",
    "!slidev export --format png --range 31-35 demo-studio-100.md --output my-frames/demo-studio-31-35\n",
    "!slidev export --format png --range 36-40 demo-studio-100.md --output my-frames/demo-studio-36-40\n",
    "!slidev export --format png --range 41-45 demo-studio-100.md --output my-frames/demo-studio-41-45\n",
    "!slidev export --format png --range 46-50 demo-studio-100.md --output my-frames/demo-studio-46-50\n",
    "!slidev export --format png --range 51-55 demo-studio-100.md --output my-frames/demo-studio-51-55\n",
    "!slidev export --format png --range 56-60 demo-studio-100.md --output my-frames/demo-studio-56-60\n",
    "!slidev export --format png --range 61-65 demo-studio-100.md --output my-frames/demo-studio-61-65\n",
    "!slidev export --format png --range 66-70 demo-studio-100.md --output my-frames/demo-studio-66-70\n",
    "!slidev export --format png --range 71-75 demo-studio-100.md --output my-frames/demo-studio-71-75\n",
    "!slidev export --format png --range 76-80 demo-studio-100.md --output my-frames/demo-studio-76-80\n",
    "!slidev export --format png --range 81-85 demo-studio-100.md --output my-frames/demo-studio-81-85\n",
    "!slidev export --format png --range 86-90 demo-studio-100.md --output my-frames/demo-studio-86-90\n",
    "!slidev export --format png --range 91-95 demo-studio-100.md --output my-frames/demo-studio-91-95\n",
    "!slidev export --format png --range 96-100 demo-studio-100.md --output my-frames/demo-studio-96-100\n",
    "\"\"\"\n",
    "\n",
    "# loop 20 times\n",
    "# WARNING: output folder is overwritten\n",
    "# slide size OK with 1500x2000\n",
    "# (no timeout problem with 5 slides)\n",
    "imax= 20\n",
    "for i in range(imax):\n",
    "    inter = str(1+ i*5) + \"-\" + str(5+ i*5)\n",
    "    print(inter)\n",
    "    !slidev export --format png --range {inter} demo-studio-100.md --output my-frames/demo-studio-{inter}\n",
    "\n",
    "\n",
    "\n"
   ]
  },
  {
   "cell_type": "code",
   "execution_count": null,
   "metadata": {},
   "outputs": [],
   "source": [
    "# check if all frames have file size > 100000 bytes\n",
    "# (if not, the frame is probably empty)\n",
    "\n",
    "import os\n",
    "import glob\n",
    "\n",
    "count = 0\n",
    "for filename in glob.glob('my-frames/*/*.png', recursive=True):\n",
    "    size = os.path.getsize(filename)\n",
    "    # print(filename, size)\n",
    "    if size < 100000:\n",
    "        print('error', filename, size)\n",
    "    else:\n",
    "        count += 1\n",
    "\n",
    "print(count)"
   ]
  },
  {
   "cell_type": "code",
   "execution_count": null,
   "metadata": {},
   "outputs": [],
   "source": [
    "# move all frames in folder my-frames\n",
    "!mv -f my-frames/demo-studio-*/*.png my-frames/\n",
    "\n",
    "# build a video from the frames\n",
    "# WARNING: output file is overwritten\n",
    "# WARNING: -framerate must be before -i\n",
    "\n",
    "# !ffmpeg -y -hide_banner -loglevel error -i my-frames/%3d.png -framerate 1/9 -c:v libx264 -r 30 -pix_fmt yuv420p my-videos/demo-studio-100.mp4\n",
    "!ffmpeg -y -hide_banner -loglevel error -framerate 1/9 -i my-frames/%3d.png -c:v libx264 -r 30 -pix_fmt yuv420p my-videos/demo-studio-100.mp4"
   ]
  },
  {
   "cell_type": "code",
   "execution_count": null,
   "metadata": {},
   "outputs": [],
   "source": [
    "# BUG: charset problem for code 😱\n",
    "# convert pdf to png\n",
    "# full hd is 1920x1080\n",
    "# 4k is 3840x2160\n",
    "# density 200 => images 2083x3125\n",
    "# target is 1680x2160\n",
    "# so density should be 1680/2083*200 = 161 => 1667x2500   \n",
    "# so density should be 2160/3125*200 = 138 => 1438x2156\n",
    "# 140 => 1458x2188\n",
    "# !convert -density 138 demo-studio-100.pdf my-frames/demo-studio.png\n",
    "# convert and complete the image to 1680x2160\n",
    "# !convert -density 138 demo-studio-100.pdf -gravity center -extent 1680x2160 my-frames/demo-studio.png\n"
   ]
  },
  {
   "cell_type": "code",
   "execution_count": null,
   "metadata": {},
   "outputs": [],
   "source": [
    "src = \"demo-movie-900\"\n",
    "\n",
    "# copy demo-linked.md to demo-linked-900.md\n",
    "# WARNING: output file is overwritten\n",
    "!cp -f demo-empty.md {src}.md\n",
    "\n",
    "h1 = \"MOVIE\"\n",
    "\n",
    "slide_1 = f\"\"\"\n",
    "\n",
    "# {h1}\n",
    "\n",
    "\n",
    "\"\"\"\n",
    "\n",
    "code_slide = \"\"\"\n",
    "\n",
    "---\n",
    "\n",
    "## frame _INDEX_\n",
    "\n",
    "<div\n",
    "v-motion\n",
    ":initial=\"{ opacity: _OPACITY_, scale: _SCALE_, y: _Y_, rotate: _ROTATE_ }\"\n",
    ">\n",
    "This video is generated from a slidev presentation.\n",
    "\n",
    "This sounds crazy but it's true.\n",
    "\n",
    "😱 😎 🔥 🚀 ⭐️ 🎁 👍\n",
    "\n",
    "<img src=\"pages/logo-triangle.png\" />\n",
    "\n",
    "</div>\n",
    "\"\"\"\n",
    "\n",
    "# insert 900 slides in demo-linked-900.md\n",
    "# WARNING: output file is overwritten\n",
    "with open(f\"{src}.md\", 'a') as f:\n",
    "\n",
    "    f.write(slide_1)\n",
    "\n",
    "    for i in range(2, 901):\n",
    "        percent = (i) / 900 * 100\n",
    "        # limit percent to 2 decimals\n",
    "        percent = int(percent * 100) / 100\n",
    "        # limit opacity to 2 decimals\n",
    "        opacity = (100 - 0.5 * percent) / 100\n",
    "        opacity = int(opacity * 100) / 100\n",
    "        # limit scale to 3 decimals\n",
    "        scale = (100 - percent) / 100\n",
    "        scale = int(scale * 1000) / 1000\n",
    "        # limit y to 2 decimals\n",
    "        y = 10 * percent\n",
    "        y = int(y * 100) / 100\n",
    "        # limit rotate to 2 decimals\n",
    "        rotate = 360 * percent / 100\n",
    "        rotate = int(rotate * 100) / 100\n",
    "\n",
    "        cur_code = code_slide\n",
    "        cur_code = cur_code.replace('_INDEX_', str(i))\n",
    "        cur_code = cur_code.replace('_OPACITY_', str(opacity))\n",
    "        cur_code = cur_code.replace('_SCALE_', str(scale))\n",
    "        cur_code = cur_code.replace('_Y_', str(y))\n",
    "        cur_code = cur_code.replace('_ROTATE_', str(rotate))\n",
    "\n",
    "        f.write(cur_code)\n",
    "\n",
    "\n"
   ]
  },
  {
   "cell_type": "code",
   "execution_count": null,
   "metadata": {},
   "outputs": [],
   "source": [
    "src = \"demo-movie-900\"\n",
    "nb_slide = 900\n",
    "step = 6\n",
    "\n",
    "imax= nb_slide // step\n",
    "\n",
    "for i in range(imax):\n",
    "    inter = str(1+ i*step) + \"-\" + str(step+ i*step)\n",
    "    print(inter)\n",
    "    !slidev export --format png --range {inter} {src}.md --output my-frames/{src}-{inter}\n",
    "\n",
    "    # find files with size < 100000 bytes\n",
    "    bad_frames = !find my-frames -type f -size -10k -print\n",
    "    # print number of bad frames\n",
    "    print(len(bad_frames))\n",
    "\n",
    "    # stop if there are bad frames\n",
    "    if len(bad_frames) > 0:\n",
    "        print(bad_frames)\n",
    "        break\n"
   ]
  },
  {
   "cell_type": "code",
   "execution_count": null,
   "metadata": {},
   "outputs": [],
   "source": [
    "src = \"demo-movie-900\"\n",
    "# move all frames in folder my-frames\n",
    "!mv -f my-frames/{src}-*/*.png my-frames/\n",
    "\n",
    "# build a video from the frames\n",
    "# WARNING: output file is overwritten\n",
    "# WARNING: -framerate must be before -i\n",
    "\n",
    "# !ffmpeg -y -hide_banner -loglevel error -i my-frames/%3d.png -framerate 1/9 -c:v libx264 -r 30 -pix_fmt yuv420p my-videos/demo-studio-100.mp4\n",
    "!ffmpeg -y -hide_banner -loglevel error -framerate 30 -i my-frames/%3d.png -c:v libx264 -r 30 -pix_fmt yuv420p my-videos/{src}.mp4"
   ]
  },
  {
   "cell_type": "code",
   "execution_count": null,
   "metadata": {},
   "outputs": [],
   "source": [
    "# find frame with size < 100000 bytes\n",
    "# (if not, the frame is probably empty)\n",
    "import os\n",
    "import glob\n",
    "\n",
    "count = 0\n",
    "for filename in glob.glob('my-frames/**.png', recursive=True):\n",
    "    size = os.path.getsize(filename)\n",
    "    # print(filename, size)\n",
    "    if size < 10000:\n",
    "        print('error', filename, size)\n",
    "        count += 1\n",
    "\n",
    "print(count)"
   ]
  },
  {
   "cell_type": "code",
   "execution_count": null,
   "metadata": {},
   "outputs": [],
   "source": [
    "# find files with size < 100000 bytes\n",
    "bad_frames = !find my-frames -type f -size -10k -print\n",
    "# print number of bad frames\n",
    "print(len(bad_frames))\n",
    "print(bad_frames)\n"
   ]
  },
  {
   "cell_type": "code",
   "execution_count": null,
   "metadata": {},
   "outputs": [],
   "source": [
    "# remove all files and folders in folder my-frames\n",
    "!rm -rf my-frames/*"
   ]
  },
  {
   "cell_type": "code",
   "execution_count": null,
   "metadata": {},
   "outputs": [],
   "source": [
    "src = \"demo-movie-900\"\n",
    "\n",
    "# export slides in PDF format\n",
    "!slidev export {src}.md --output {src}.pdf\n",
    "\n",
    "# show the file size\n",
    "!ls -lh {src}.pdf\n"
   ]
  },
  {
   "cell_type": "code",
   "execution_count": null,
   "metadata": {},
   "outputs": [],
   "source": [
    "list_md = !ls -1 my-*.md\n",
    "\n",
    "for md in list_md:\n",
    "    print(md)\n",
    "    # export slides in PDF format\n",
    "    !slidev export {md} --output {md.replace('.md', '.pdf')}\n",
    "    # show the file size\n",
    "    !ls -lh {md.replace('.md', '.pdf')}\n"
   ]
  },
  {
   "cell_type": "code",
   "execution_count": null,
   "metadata": {},
   "outputs": [],
   "source": [
    "!cp my-*.pdf $HOME/Downloads\n",
    "!ls -lth  $HOME/Downloads\n"
   ]
  }
 ],
 "metadata": {
  "kernelspec": {
   "display_name": "Python 3",
   "language": "python",
   "name": "python3"
  },
  "language_info": {
   "codemirror_mode": {
    "name": "ipython",
    "version": 3
   },
   "file_extension": ".py",
   "mimetype": "text/x-python",
   "name": "python",
   "nbconvert_exporter": "python",
   "pygments_lexer": "ipython3",
   "version": "3.11.3"
  },
  "orig_nbformat": 4
 },
 "nbformat": 4,
 "nbformat_minor": 2
}
