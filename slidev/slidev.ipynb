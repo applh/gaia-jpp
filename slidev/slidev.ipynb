{
 "cells": [
  {
   "attachments": {},
   "cell_type": "markdown",
   "metadata": {},
   "source": [
    "# Sli.dev (Slidev)\n",
    "\n",
    "## Sli.dev: Command line"
   ]
  },
  {
   "cell_type": "code",
   "execution_count": null,
   "metadata": {},
   "outputs": [],
   "source": [
    "# export slides in PDF format\n",
    "!slidev export your-slides.md --output your-slides.pdf"
   ]
  },
  {
   "cell_type": "code",
   "execution_count": null,
   "metadata": {},
   "outputs": [],
   "source": [
    "# export slides in PDF format\n",
    "!slidev export demo-book-100.md --output demo-book-100.pdf\n",
    "\n",
    "# show the file size\n",
    "!ls -lh demo-book-100.pdf\n"
   ]
  },
  {
   "cell_type": "code",
   "execution_count": null,
   "metadata": {},
   "outputs": [],
   "source": [
    "# export slides in PDF format\n",
    "!slidev export demo-linkedin.md --output demo-linkedin.pdf\n",
    "\n",
    "# show the file size\n",
    "!ls -lh demo-linkedin.pdf\n"
   ]
  },
  {
   "cell_type": "code",
   "execution_count": null,
   "metadata": {},
   "outputs": [],
   "source": [
    "# show the pdf file in MacOS app\n",
    "!open demo-book-100.pdf\n"
   ]
  }
 ],
 "metadata": {
  "kernelspec": {
   "display_name": "Python 3",
   "language": "python",
   "name": "python3"
  },
  "language_info": {
   "codemirror_mode": {
    "name": "ipython",
    "version": 3
   },
   "file_extension": ".py",
   "mimetype": "text/x-python",
   "name": "python",
   "nbconvert_exporter": "python",
   "pygments_lexer": "ipython3",
   "version": "3.11.3"
  },
  "orig_nbformat": 4
 },
 "nbformat": 4,
 "nbformat_minor": 2
}
